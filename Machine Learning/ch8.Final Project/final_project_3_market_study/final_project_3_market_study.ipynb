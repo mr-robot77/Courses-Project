{
 "cells": [
  {
   "attachments": {},
   "cell_type": "markdown",
   "id": "c53c070f",
   "metadata": {
    "id": "9ec2accb"
   },
   "source": [
    "<h1 align=center style=\"line-height:200%;font-family:vazir;color:#0099cc\">\n",
    "<font face=\"vazir\" color=\"#0099cc\">\n",
    "مطالعه‌ی بازار‌های هدف\n",
    "</font>\n",
    "</h1>\n",
    "\n",
    "<p dir=rtl style=\"direction: rtl;text-align: justify;line-height:200%;font-family:vazir;font-size:medium\">\n",
    "<font face=\"vazir\" size=3>\n",
    "    در این گام از پروژه کشورها را از نظر میزان فروش و تعداد مشتریان گروه‌بندی خواهید کرد و با رسم یک نمودار کاربردی به تحلیل محل فروش و عرضه خواهید پرداخت.\n",
    "</font>\n",
    "</p>"
   ]
  },
  {
   "attachments": {},
   "cell_type": "markdown",
   "id": "90a6bd9e",
   "metadata": {},
   "source": [
    "   \n",
    "<h2 align=right style=\"line-height:200%;font-family:vazir;color:#0099cc\">\n",
    "<font face=\"vazir\" color=\"#0099cc\">\n",
    "کتابخانه‌ها\n",
    "</font>\n",
    "</h2>\n",
    "\n",
    "<p dir=rtl style=\"direction: rtl;text-align: justify;line-height:200%;font-family:vazir;font-size:medium\">\n",
    "<font face=\"vazir\" size=3>\n",
    "       ابتدا کتابخانه‌های مورد نیاز خود را فرا بخوانید.\n",
    "</font>\n",
    "</p>"
   ]
  },
  {
   "cell_type": "code",
   "execution_count": 1,
   "id": "dc013b6f",
   "metadata": {
    "id": "03fa6dc0"
   },
   "outputs": [],
   "source": [
    "# import libraries\n",
    "import pandas as pd\n",
    "import numpy as np\n",
    "import matplotlib.pyplot as plt"
   ]
  },
  {
   "attachments": {},
   "cell_type": "markdown",
   "id": "b2f6750e",
   "metadata": {
    "id": "5967cd63"
   },
   "source": [
    "\n",
    "<h2 align=right style=\"line-height:200%;font-family:vazir;color:#0099cc\">\n",
    "<font face=\"vazir\" color=\"#0099cc\">\n",
    "    خواندن مجموعه‌داده\n",
    "</font>\n",
    "</h2>\n",
    "\n",
    "<p dir=rtl style=\"direction: rtl;text-align: justify;line-height:200%;font-family:vazir;font-size:medium\">\n",
    "<font face=\"vazir\" size=3>\n",
    "    حال داده‌های پیش‌پردازش‌شده را که در گام اول پروژه در فایل <code>preprocessed_sales.csv</code> ذخیره کردید به شکل یک دیتافریم بخوانید.\n",
    "</font>\n",
    "</p>"
   ]
  },
  {
   "cell_type": "code",
   "execution_count": 2,
   "id": "1365e327",
   "metadata": {
    "colab": {
     "base_uri": "https://localhost:8080/",
     "height": 289
    },
    "id": "e634fc85",
    "outputId": "53db229c-9736-46d3-eaae-34ee9c68a385",
    "scrolled": true
   },
   "outputs": [
    {
     "data": {
      "text/html": [
       "<div>\n",
       "<style scoped>\n",
       "    .dataframe tbody tr th:only-of-type {\n",
       "        vertical-align: middle;\n",
       "    }\n",
       "\n",
       "    .dataframe tbody tr th {\n",
       "        vertical-align: top;\n",
       "    }\n",
       "\n",
       "    .dataframe thead th {\n",
       "        text-align: right;\n",
       "    }\n",
       "</style>\n",
       "<table border=\"1\" class=\"dataframe\">\n",
       "  <thead>\n",
       "    <tr style=\"text-align: right;\">\n",
       "      <th></th>\n",
       "      <th>InvoiceNumber</th>\n",
       "      <th>ProductCode</th>\n",
       "      <th>ProductName</th>\n",
       "      <th>Quantity</th>\n",
       "      <th>InvoiceDate</th>\n",
       "      <th>UnitPrice</th>\n",
       "      <th>CustomerId</th>\n",
       "      <th>Country</th>\n",
       "    </tr>\n",
       "  </thead>\n",
       "  <tbody>\n",
       "    <tr>\n",
       "      <th>0</th>\n",
       "      <td>489434</td>\n",
       "      <td>85048</td>\n",
       "      <td>15CM CHRISTMAS GLASS BALL 20 LIGHTS</td>\n",
       "      <td>12</td>\n",
       "      <td>2009-12-01 07:45:00</td>\n",
       "      <td>6.95</td>\n",
       "      <td>13085.0</td>\n",
       "      <td>United Kingdom</td>\n",
       "    </tr>\n",
       "    <tr>\n",
       "      <th>1</th>\n",
       "      <td>489434</td>\n",
       "      <td>79323P</td>\n",
       "      <td>PINK CHERRY LIGHTS</td>\n",
       "      <td>12</td>\n",
       "      <td>2009-12-01 07:45:00</td>\n",
       "      <td>6.75</td>\n",
       "      <td>13085.0</td>\n",
       "      <td>United Kingdom</td>\n",
       "    </tr>\n",
       "    <tr>\n",
       "      <th>2</th>\n",
       "      <td>489434</td>\n",
       "      <td>79323W</td>\n",
       "      <td>WHITE CHERRY LIGHTS</td>\n",
       "      <td>12</td>\n",
       "      <td>2009-12-01 07:45:00</td>\n",
       "      <td>6.75</td>\n",
       "      <td>13085.0</td>\n",
       "      <td>United Kingdom</td>\n",
       "    </tr>\n",
       "    <tr>\n",
       "      <th>3</th>\n",
       "      <td>489434</td>\n",
       "      <td>22041</td>\n",
       "      <td>RECORD FRAME 7\" SINGLE SIZE</td>\n",
       "      <td>48</td>\n",
       "      <td>2009-12-01 07:45:00</td>\n",
       "      <td>2.10</td>\n",
       "      <td>13085.0</td>\n",
       "      <td>United Kingdom</td>\n",
       "    </tr>\n",
       "    <tr>\n",
       "      <th>4</th>\n",
       "      <td>489434</td>\n",
       "      <td>21232</td>\n",
       "      <td>STRAWBERRY CERAMIC TRINKET BOX</td>\n",
       "      <td>24</td>\n",
       "      <td>2009-12-01 07:45:00</td>\n",
       "      <td>1.25</td>\n",
       "      <td>13085.0</td>\n",
       "      <td>United Kingdom</td>\n",
       "    </tr>\n",
       "  </tbody>\n",
       "</table>\n",
       "</div>"
      ],
      "text/plain": [
       "   InvoiceNumber ProductCode                          ProductName  Quantity  \\\n",
       "0         489434       85048  15CM CHRISTMAS GLASS BALL 20 LIGHTS        12   \n",
       "1         489434      79323P                   PINK CHERRY LIGHTS        12   \n",
       "2         489434      79323W                  WHITE CHERRY LIGHTS        12   \n",
       "3         489434       22041         RECORD FRAME 7\" SINGLE SIZE         48   \n",
       "4         489434       21232       STRAWBERRY CERAMIC TRINKET BOX        24   \n",
       "\n",
       "           InvoiceDate  UnitPrice  CustomerId         Country  \n",
       "0  2009-12-01 07:45:00       6.95     13085.0  United Kingdom  \n",
       "1  2009-12-01 07:45:00       6.75     13085.0  United Kingdom  \n",
       "2  2009-12-01 07:45:00       6.75     13085.0  United Kingdom  \n",
       "3  2009-12-01 07:45:00       2.10     13085.0  United Kingdom  \n",
       "4  2009-12-01 07:45:00       1.25     13085.0  United Kingdom  "
      ]
     },
     "execution_count": 2,
     "metadata": {},
     "output_type": "execute_result"
    }
   ],
   "source": [
    "df = pd.read_csv('preprocessed_sales.csv')\n",
    "df.head()"
   ]
  },
  {
   "attachments": {},
   "cell_type": "markdown",
   "id": "6daec673",
   "metadata": {},
   "source": [
    "\n",
    "<h2 align=right style=\"line-height:200%;font-family:vazir;color:#0099cc\">\n",
    "<font face=\"vazir\" color=\"#0099cc\">\n",
    "رسم نمودار پراکندگی میزان فروش و تعداد مشتریان کشورها\n",
    "</font>\n",
    "</h2>\n",
    "\n",
    "<p dir=rtl style=\"direction: rtl;text-align: justify;line-height:200%;font-family:vazir;font-size:medium\">\n",
    "<font face=\"vazir\" size=3>\n",
    "در این گام بر روی یک نمودار پراکندگی، کشورهای مختلف را براساس میزان فروش و تعداد مشتریان آن‌ها نشان می‌دهیم. علاوه‌براین کشورها را با توجه به میزان فروش و تعداد مشتریان به ۴ گروه تقسیم می‌کنیم و رنگ نقاط مربوط به کشورها را براساس گروه‌شان تعیین می‌کنیم.\n",
    "</font>\n",
    "</p>\n",
    "\n",
    "<p dir=rtl style=\"direction: rtl;text-align: justify;line-height:200%;font-family:vazir;font-size:medium\">\n",
    "<font face=\"vazir\" size=3>\n",
    "اگر میزان فروش را با <code>SA</code> و چارک سومش را با <code>qSA</code>، تعداد مشتری‌ها را با <code>CC</code> و چارک سومش را با <code>qCC</code> نشان دهیم، ۴ گروه از کشورها به شکل زیر تعریف می‌شوند.\n",
    "</font>\n",
    "</p>\n",
    "\n",
    "<center>\n",
    "<div dir=rtl style=\"direction: rtl;line-height:200%;font-family:vazir;font-size:medium\">\n",
    "<font face=\"vazir\" size=3>\n",
    "\n",
    "| <b>شماره گروه</b> | <b>عنوان گروه</b> | <b>شرط</b> | <b>رنگ</b> |\n",
    "| :---: | :---: | :---: | :---: |\n",
    "| ۱ | Highest customer & revenue | <code dir=ltr>SA > qSA</code> و <code dir=ltr>CC > qCC</code> | <code>red</code> |\n",
    "| ۲ | High customer & low revenue | <code dir=ltr>SA < qSA</code> و <code dir=ltr>CC > qCC</code> | <code>blue</code> |\n",
    "| ۳ | High revenue & low customer | <code dir=ltr>SA > qSA</code> و <code dir=ltr>CC < qCC</code> | <code>green</code> |\n",
    "| ۴ | Low customer & revenue | <code dir=ltr>SA < qSA</code> و <code dir=ltr>CC < qCC</code> | <code>cyan</code> |\n",
    "\n",
    "</font>\n",
    "</div>\n",
    "</center>\n",
    "\n",
    "<p dir=rtl style=\"direction: rtl;text-align: right;line-height:200%;font-family:vazir;font-size:medium\">\n",
    "<font face=\"vazir\" size=3>\n",
    "برای رسم نمودار باید مراحل زیر را طی کنید:\n",
    "\n",
    "<ol dir =rtl>\n",
    "  <li>ابتدا سفارش‌های مربوط به کشور United Kingdom را حذف کنید.</li>\n",
    "  <li>به ازای هر کشور، تعداد مشتری یکتا و میزان فروش را محاسبه کنید.</li>\n",
    "  <li>چارک سوم را برای میزان فروش و تعداد مشتری به دست آورید.</li>\n",
    "  <li>با استفاده از توضیحات بالا، کشورها را به چهار گروه تقسیم کنید.</li>\n",
    "  <li>در ادامه، با استفاده از اطلاعاتی که به دست آورده‌اید، نمودار زیر را رسم کنید.</li>\n",
    "</ol>\n",
    "\n",
    "</font>\n",
    "</p>\n",
    "\n",
    "<center>\n",
    "<div dir=rtl style=\"direction: rtl;line-height:200%;font-family:vazir;font-size:medium\">\n",
    "<font face=\"vazir\" size=3>\n",
    "\n",
    "| <b style=\"color:#0099cc\">ویژگی</b> | <b style=\"color:#0099cc\">مقدار</b> |\n",
    "| :---: | :---: |\n",
    "| اندازه‌ی شکل | ۱۰ در ۱۰ اینچ |\n",
    "| اندازه‌ی فونت عنوان شکل | ۱۸ |\n",
    "| اندازه‌ی فونت محور افقی و عمودی | ۱۶ |\n",
    "| اندازه‌ی نقاط | ۲۰ |\n",
    "| استایل | <code>fivethirtyeight</code> | \n",
    "\n",
    "</font>\n",
    "</div>\n",
    "</center>\n",
    "\n",
    "<p dir=rtl align=right style=\"direction: rtl;text-align: justify;line-height:200%;font-family:vazir;font-size:medium\">\n",
    "<font face=\"vazir\" size=3>\n",
    "در انتها باید کشورهای فرانسه، اسپانیا و هلند را روی نقشه نمایش دهید. یعنی،‌ نام آن‌ها را روی نقاطی که این کشورها را نشان می‌دهند، رسم کنید. موقعیت متن‌ها همان موقعیت نقاط کشورها می‌باشد با این تفاوت که در محور عمودی، موقعیت متن‌ها نیم واحد (<code dir=ltr>+0.5</code>) افزایش یافته است. اندازه‌ی فونت این متن‌ها، ۱۵ می‌باشد.\n",
    "\n",
    "</font>\n",
    "</p>\n",
    "\n",
    "<p style=\"text-align:center;\"><img src=\"output.png\"></p>\n",
    "\n",
    "<p dir=rtl style=\"direction: rtl;text-align: justify;line-height:200%;font-family:vazir;font-size:medium\">\n",
    "<font face=\"vazir\" size=3>\n",
    "<span style=\"color:purple\"><b>نکته ۱:</b></span>\n",
    "تمام اجزای نمودار شما همچون  عنوان اصلی، عنوان محور افقی و عمودی و غیره باید دقیقاً همچون تصویر بالا باشد.\n",
    "<br>\n",
    "<span style=\"color:purple\"><b>نکته ۲:</b></span>\n",
    "توجه داشته باشید که برای محاسبه‌ی میزان فروش باید از حاصل‌ضرب دو ستون <code>UnitPrice</code> و <code>Quantity</code> استفاده کنید.\n",
    "</font>\n",
    "</p>\n",
    "\n",
    "<h3 dir = rtl align=right style=\"line-height:200%;font-family:vazir;color:#0099cc\">\n",
    "<font face=\"vazir\" color=\"#0099cc\">\n",
    "نکات مربوط به <code>legend</code>\n",
    "</font>\n",
    "</h3>\n",
    "\n",
    "<p dir=rtl align=right style=\"direction: rtl;text-align: justify;line-height:200%;font-family:vazir;font-size:medium\">\n",
    "<font face=\"vazir\" size=3>\n",
    "<code>legend</code> این نمودار کمی با نمونه‌هایی که پیش از این دیدید فرق دارد. در اینجا، <code>legend</code> استفاده‌شده دارای عنوان و قاب می‌باشد. عنوان <code>legend</code> با استفاده از پارامتر  <code>title</code> انتخاب می‌شود. با <code>True</code> کردن پارامتر <code>frameon</code> قاب لازم برای <code>legend</code> نمایش داده می‌شود.\n",
    "برای تغییر اندازه‌ی فونت عنوان و رنگ زمینه‌ی قاب می‌توانید از پارامترهای <code>title_fontsize</code> و <code>facecolor</code> استفاده کنید.\n",
    "</font>\n",
    "</p>\n",
    "\n",
    "<center>\n",
    "<div dir=rtl style=\"direction: rtl;line-height:200%;font-family:vazir;font-size:medium\">\n",
    "<font face=\"vazir\" size=3>\n",
    "\n",
    "| <b style=\"color:#0099cc\">ویژگی</b> | <b style=\"color:#0099cc\">مقدار</b> |\n",
    "| :---: | :---: |\n",
    "| رنگ زمینه‌ی قاب | <code>silver</code> |\n",
    "| اندازه‌ی فونت عنوان | ۱۶ |\n",
    "| اندازه‌ی فونت متن‌ها | ۱۴ |\n",
    "\n",
    "</font>\n",
    "</div>\n",
    "</center>"
   ]
  },
  {
   "cell_type": "code",
   "execution_count": 3,
   "id": "bbb47820",
   "metadata": {
    "colab": {
     "base_uri": "https://localhost:8080/",
     "height": 204
    },
    "id": "b12f2543",
    "outputId": "620d03d5-ca56-4713-b45f-0813b268e33b"
   },
   "outputs": [],
   "source": [
    "# prepare the dataframe\n",
    "# Remove orders related to the United Kingdom\n",
    "df = df[df['Country'] != 'United Kingdom']\n",
    "df['Sales'] = df['Quantity']*df['UnitPrice']\n",
    "# Calculate the unique customers and total sales for each country\n",
    "grouped_df = df.groupby('Country').agg({\n",
    "    'CustomerId': 'nunique',\n",
    "    'Sales': 'sum'\n",
    "}).reset_index()\n",
    "\n",
    "# Calculate the third quartile for sales and number of customers\n",
    "qSA = grouped_df['Sales'].quantile(0.75)\n",
    "qCC = grouped_df['CustomerId'].quantile(0.75)\n",
    "\n",
    "# Categorize the countries into four groups based on sales and number of customers\n",
    "grouped_df.loc[(grouped_df['Sales'] > qSA) & (grouped_df['CustomerId'] > qCC), 'Group'] = 'Highest customer & revenue'\n",
    "grouped_df.loc[(grouped_df['Sales'] < qSA) & (grouped_df['CustomerId'] > qCC), 'Group'] = 'High customer & low revenue'\n",
    "grouped_df.loc[(grouped_df['Sales'] > qSA) & (grouped_df['CustomerId'] < qCC), 'Group'] = 'High revenue & low customer'\n",
    "grouped_df.loc[(grouped_df['Sales'] < qSA) & (grouped_df['CustomerId'] < qCC), 'Group'] = 'Low customer & revenue'\n"
   ]
  },
  {
   "cell_type": "code",
   "execution_count": 4,
   "id": "6408ee57",
   "metadata": {},
   "outputs": [
    {
     "data": {
      "image/png": "[encoded data removed]",
      "text/plain": [
       "<Figure size 1000x1000 with 1 Axes>"
      ]
     },
     "metadata": {},
     "output_type": "display_data"
    }
   ],
   "source": [
    "# Apply style\n",
    "plt.style.use('fivethirtyeight')\n",
    "\n",
    "fig, ax = plt.subplots(figsize=(10, 10))\n",
    "\n",
    "ax.scatter(grouped_df[grouped_df['Group']=='Highest customer & revenue']['Sales'],\n",
    "           grouped_df[grouped_df['Group']=='Highest customer & revenue']['CustomerId'], c='red', s=20, label='Highest customer & revenue')\n",
    "ax.scatter(grouped_df[grouped_df['Group']=='High customer & low revenue']['Sales'],\n",
    "           grouped_df[grouped_df['Group']=='High customer & low revenue']['CustomerId'], c='blue', s=20, label='High customer & low revenue')\n",
    "ax.scatter(grouped_df[grouped_df['Group']=='High revenue & low customer']['Sales'],\n",
    "           grouped_df[grouped_df['Group']=='High revenue & low customer']['CustomerId'], c='green', s=20, label='High revenue & low customer')\n",
    "ax.scatter(grouped_df[grouped_df['Group']=='Low customer & revenue']['Sales'],\n",
    "           grouped_df[grouped_df['Group']=='Low customer & revenue']['CustomerId'], c='cyan', s=20, label='Low customer & revenue')\n",
    "\n",
    "\n",
    "# Add labels for France, Spain, and Netherlands\n",
    "countries = ['France', 'Spain', 'Netherlands']\n",
    "font_size = 15\n",
    "\n",
    "for i, country in grouped_df[grouped_df['Country'].isin(countries)].iterrows():\n",
    "    ax.text(country['Sales'], country['CustomerId'] + 0.5, country['Country'], fontsize=font_size)\n",
    "\n",
    "# Set plot properties\n",
    "ax.set_title('Market Study', fontsize=18)\n",
    "ax.set_xlabel('Sales amount', fontsize=16)\n",
    "ax.set_ylabel('Number of customers', fontsize=16)\n",
    "ax.spines['top'].set_visible(False)\n",
    "ax.spines['right'].set_visible(False)\n",
    "ax.legend(title='Group', frameon=True, loc=\"upper right\", title_fontsize=16, fontsize=14, facecolor='silver')\n",
    "ax.grid(True)\n",
    "\n",
    "plt.show()"
   ]
  },
  {
   "attachments": {},
   "cell_type": "markdown",
   "id": "2cb90593",
   "metadata": {
    "id": "0faed9f7"
   },
   "source": [
    "<h2 align=right style=\"line-height:200%;font-family:vazir;color:#0099cc\">\n",
    "<font face=\"vazir\" color=\"#0099cc\">\n",
    "<b>سلول جواب‌ساز</b>\n",
    "</font>\n",
    "</h2>\n",
    "\n",
    "\n",
    "<p dir=rtl style=\"direction: rtl; text-align: justify; line-height:200%; font-family:vazir; font-size:medium\">\n",
    "<font face=\"vazir\" size=3>\n",
    "    برای ساخته‌شدن فایل <code>result.zip</code> سلول زیر را اجرا کنید. توجه داشته باشید که پیش از اجرای سلول زیر تغییرات اعمال شده در نت‌بوک را ذخیره کرده باشید (<code>ctrl+s</code>) تا در صورت نیاز به پشتیبانی امکان بررسی کد شما وجود داشته باشد.\n",
    "</font>\n",
    "</p>"
   ]
  },
  {
   "cell_type": "code",
   "execution_count": 5,
   "id": "875124d1",
   "metadata": {
    "id": "FgRTQq_Mf9YI"
   },
   "outputs": [
    {
     "name": "stdout",
     "output_type": "stream",
     "text": [
      "File Paths:\n",
      "['fig', 'final_project_3_market_study.ipynb']\n"
     ]
    }
   ],
   "source": [
    "import zipfile\n",
    "import joblib\n",
    "\n",
    "joblib.dump(fig,\"fig\")\n",
    "\n",
    "def compress(file_names):\n",
    "    print(\"File Paths:\")\n",
    "    print(file_names)\n",
    "    compression = zipfile.ZIP_DEFLATED\n",
    "    with zipfile.ZipFile(\"result.zip\", mode=\"w\") as zf:\n",
    "        for file_name in file_names:\n",
    "            zf.write('./' + file_name, file_name, compress_type=compression)\n",
    "\n",
    "file_names = [\"fig\", \"final_project_3_market_study.ipynb\"]\n",
    "compress(file_names)"
   ]
  }
 ],
 "metadata": {
  "colab": {
   "collapsed_sections": [],
   "name": "market_study_answers.ipynb",
   "provenance": []
  },
  "kernelspec": {
   "display_name": "Python 3",
   "language": "python",
   "name": "python3"
  },
  "language_info": {
   "codemirror_mode": {
    "name": "ipython",
    "version": 3
   },
   "file_extension": ".py",
   "mimetype": "text/x-python",
   "name": "python",
   "nbconvert_exporter": "python",
   "pygments_lexer": "ipython3",
   "version": "3.8.1"
  },
  "vscode": {
   "interpreter": {
    "hash": "44e7e1b8fa2096bd5707ed7fd18b1724a2db25f4c565a7673f8b6e7bfc49d25d"
   }
  }
 },
 "nbformat": 4,
 "nbformat_minor": 5
}
