{
 "cells": [
  {
   "attachments": {},
   "cell_type": "markdown",
   "metadata": {},
   "source": [
    "<h1 align=center style=\"line-height:200%;font-family:vazir;color:#0099cc\">\n",
    "<font face=\"vazir\" color=\"#0099cc\">\n",
    "دستگرمی\n",
    "</font>\n",
    "</h1>\n",
    "\n",
    "<p dir=rtl style=\"direction: rtl;text-align: justify;line-height:200%;font-family:vazir;font-size:medium\">\n",
    "<font face=\"vazir\" size=3>\n",
    "در اولین تمرین دوره، هدف تنها گرم کردن دستان شما به تمرین‌های کوئرایی است. در سلول زیر، تابعی به نام <code>hello_quera</code> قرار دارد. داخل تابع را طوری تکمیل کنید که رشته‌ی <code>Hello Quera</code> را خروجی بدهد (به بزرگی و کوچکی حروف دقت کنید). توجه داشته باشید که این تابع چیزی را پرینت نمی‌کند و تنها خود رشته را <code>return</code> می‌کند.\n",
    "<br>\n",
    "همچنین فراموش نکنید که پس از تکمیل تابع، باید سلولی که تابع در آن قرار دارد را اجرا کنید تا در ارسال جواب به مشکل نخورید.\n",
    "</font>\n",
    "</p>\n"
   ]
  },
  {
   "cell_type": "code",
   "execution_count": 1,
   "metadata": {},
   "outputs": [],
   "source": [
    "def hello_quera():\n",
    "    return  'Hello Quera'"
   ]
  },
  {
   "attachments": {},
   "cell_type": "markdown",
   "metadata": {},
   "source": [
    "<p dir=rtl style=\"direction: rtl;text-align: justify;line-height:200%;font-family:vazir;font-size:medium\">\n",
    "<font face=\"vazir\" size=3>\n",
    "جهت اطمینان از این‌که تابع شما به‌درستی کار می‌کند می‌توانید سلول زیر را اجرا کنید و خروجی برگردانده شده را بررسی کنید.\n",
    "</font>\n",
    "</p>\n"
   ]
  },
  {
   "cell_type": "code",
   "execution_count": 2,
   "metadata": {},
   "outputs": [
    {
     "data": {
      "text/plain": [
       "'Hello Quera'"
      ]
     },
     "execution_count": 2,
     "metadata": {},
     "output_type": "execute_result"
    }
   ],
   "source": [
    "hello_quera()"
   ]
  },
  {
   "attachments": {},
   "cell_type": "markdown",
   "metadata": {},
   "source": [
    "<h2 align=right style=\"line-height:200%;font-family:vazir;color:#0099cc\">\n",
    "<font face=\"vazir\" color=\"#0099cc\">\n",
    "<b>سلول جواب‌ساز</b>\n",
    "</font>\n",
    "</h2>\n"
   ]
  },
  {
   "attachments": {},
   "cell_type": "markdown",
   "metadata": {},
   "source": [
    "<p dir=rtl style=\"direction: rtl;text-align: justify;line-height:200%;font-family:vazir;font-size:medium\">\n",
    "<font face=\"vazir\" size=3>\n",
    "سلول جواب‌ساز در انتهای همه تمرین‌ها قرار دارد و با اجرای آن فایل یا فایل‌های لازم برای داوری در یک فایل فشرده‌ی زیپ با نام <code>result.zip</code> قرار می‌گیرند. برای مثال در این تمرین فایل <code>hello_quera.py</code> که حاوی کد تابع شماست ساخته شده و همراه خود فایل نوت‌بوک تمرین در <code>result.zip</code> قرار داده می‌شود. برای دریافت امتیاز هر سوال، باید این فایل فشرده را در صفحه‌ی آن تمرین در کالج آپلود کنید.\n",
    "</font>\n",
    "</p>\n",
    "\n",
    "<p dir=rtl style=\"direction: rtl;text-align: justify;line-height:200%;font-family:vazir;font-size:medium\">\n",
    "<font face=\"vazir\" size=3>\n",
    "<span style=\"color:green\"><b>نکته:</b></span> پیش از اجرای سلول جواب‌ساز حتماً یک‌بار نت‌بوک خود را ذخیره کنید (<code>ctrl+s</code>) تا کدها و تغییرات شما ذخیره شده و در صورت نیاز به پشتیبانی یا راهنمایی امکان بررسی کدهای شما وجود داشته باشد.\n",
    "</font>\n",
    "</p>\n",
    "\n"
   ]
  },
  {
   "cell_type": "code",
   "execution_count": 3,
   "metadata": {},
   "outputs": [
    {
     "name": "stdout",
     "output_type": "stream",
     "text": [
      "The following commands were written to file `hello_quera.py`:\n",
      "def hello_quera():\n",
      "    return  'Hello Quera'\n",
      "\n",
      "File Paths:\n",
      "['hello_quera.py', 'warm_up.ipynb']\n"
     ]
    }
   ],
   "source": [
    "import zipfile \n",
    "from inspect import getsource\n",
    "\n",
    "%save hello_quera getsource(hello_quera)\n",
    "\n",
    "def compress(file_names):\n",
    "    print(\"File Paths:\")\n",
    "    print(file_names)\n",
    "    # Select the compression mode ZIP_DEFLATED for compression\n",
    "    # or zipfile.ZIP_STORED to just store the file\n",
    "    compression = zipfile.ZIP_DEFLATED\n",
    "    # create the zip file first parameter path/name, second mode\n",
    "    with zipfile.ZipFile(\"result.zip\", mode=\"w\") as zf:\n",
    "        for file_name in file_names:\n",
    "            # Add file to the zip file\n",
    "            # first parameter file to zip, second filename in zip\n",
    "            zf.write('./' + file_name, file_name, compress_type=compression)\n",
    "\n",
    "file_names = [\"hello_quera.py\", \"warm_up.ipynb\"]\n",
    "compress(file_names)"
   ]
  },
  {
   "cell_type": "code",
   "execution_count": null,
   "metadata": {},
   "outputs": [],
   "source": []
  }
 ],
 "metadata": {
  "interpreter": {
   "hash": "a1a46404003b1888471f66733c8ff43ecbbd22069e04669a0d47e7a2f84d0bb4"
  },
  "kernelspec": {
   "display_name": "Python 3.7.4 64-bit ('qenv': venv)",
   "name": "python3"
  },
  "language_info": {
   "codemirror_mode": {
    "name": "ipython",
    "version": 3
   },
   "file_extension": ".py",
   "mimetype": "text/x-python",
   "name": "python",
   "nbconvert_exporter": "python",
   "pygments_lexer": "ipython3",
   "version": "3.8.1"
  },
  "orig_nbformat": 4
 },
 "nbformat": 4,
 "nbformat_minor": 2
}
