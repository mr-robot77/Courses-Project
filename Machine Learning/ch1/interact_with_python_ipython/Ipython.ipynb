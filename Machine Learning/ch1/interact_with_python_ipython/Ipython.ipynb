{
 "cells": [
  {
   "attachments": {},
   "cell_type": "markdown",
   "metadata": {},
   "source": [
    "<h1 align=center style=\"line-height:200%;font-family:vazir;color:#0099cc\">\n",
    "<font face=\"vazir\" color=\"#0099cc\">\n",
    "تمرین پایتون تعاملی\n",
    "</font>\n",
    "</h1>\n",
    "\n",
    "\n",
    "<p dir=rtl style=\"direction: rtl;text-align: justify;line-height:200%;font-family:vazir;font-size:medium\">\n",
    "<font face=\"vazir\" size=3>\n",
    "در این تمرین می‌خواهیم یک سری عملیات ساده انجام دهیم تا با نت‌بوک پایتون و ویژگی‌های آن بهتر آشنا شوید.\n",
    "<br>\n",
    "در پایتون تابعی به نام <code>any</code> وجود دارد که یک <code>Iterator</code> (مثل دیکشنری، لیست یا تاپل) را می‌گیرد و اگر حداقل یک مقدار <code>True</code> داشته باشد پاسخ <code>True</code> تولید می‌کند (یعنی تنها وقتی <code>False</code> تولید می‌کند که تمام مقادیر آن <code>False</code> باشند).\n",
    "<br>\n",
    "مثال‌هایی از این تابع را در سلول زیر می‌بینید:\n",
    "\n",
    "</font>\n",
    "</p>"
   ]
  },
  {
   "cell_type": "code",
   "execution_count": 1,
   "metadata": {},
   "outputs": [
    {
     "name": "stdout",
     "output_type": "stream",
     "text": [
      "True\n",
      "False\n",
      "False\n",
      "True\n",
      "True\n"
     ]
    }
   ],
   "source": [
    "print(any([True, False, True]))\n",
    "print(any([False, False, False]))\n",
    "print(any([0, False]))\n",
    "print(any([1, 2, 3]))\n",
    "print(any([\"salaam\"]))"
   ]
  },
  {
   "attachments": {},
   "cell_type": "markdown",
   "metadata": {},
   "source": [
    "\n",
    "<h2 align=right style=\"line-height:200%;font-family:vazir;color:#0099cc\">\n",
    "<font face=\"vazir\" color=\"#0099cc\">\n",
    "قسمت اول\n",
    "</font>\n",
    "</h2>\n",
    "<p dir=rtl style=\"direction: rtl;text-align: justify;line-height:200%;font-family:vazir;font-size:medium\">\n",
    "<font face=\"vazir\" size=3>\n",
    "در سلول زیر تابعی بنویسد که کار تابع <code>any</code> را انجام دهد. تابع شما باید یک لیست را ورودی بگیرد (<code>x</code>) و اگر در لیست حداقل یک مقدار <code>True</code> وجود داشته باشد پاسخ <code>True</code> را برگرداند و در غیر این‌صورت (اگر تمام مقادیر <code>False</code> بودند) <code>False</code> برگرداند. دقت کنید که تابع باید خروجی را <code>return</code> کند (چاپ نکند).\n",
    "</font>\n",
    "</p>\n",
    "<p dir=rtl style=\"direction: rtl;text-align: justify;line-height:200%;font-family:vazir;font-size:medium\">\n",
    "<font face=\"vazir\" size=3>\n",
    "<span style=\"color:purple\"><b>نکته:</b></span>\n",
    "قاعدتاً‌ درون این تابع نباید از خود تابع <code>any</code> استفاده کنید، بلکه باید به‌صورت دستی رفتار آن را کدنویسی کنید.\n",
    "</font>\n",
    "</p>\n"
   ]
  },
  {
   "cell_type": "code",
   "execution_count": 6,
   "metadata": {},
   "outputs": [],
   "source": [
    "def my_any(x):\n",
    "    for i in x:\n",
    "        if i:\n",
    "            return True\n",
    "    return False"
   ]
  },
  {
   "attachments": {},
   "cell_type": "markdown",
   "metadata": {},
   "source": [
    "\n",
    "<p dir=rtl style=\"direction: rtl;text-align: justify;line-height:200%;font-family:vazir;font-size:medium\">\n",
    "<font face=\"vazir\" size=3>\n",
    "دستورات جادویی دارای آرگومان‌های بسیار کاربردی‌‌ای می‌باشند که برای مشاهده‌ی آن‌ها، می‌توان از ویژگی <code>introspection</code> استفاده کرد:\n",
    "\n",
    "</font>\n",
    "</p>\n",
    "\n"
   ]
  },
  {
   "cell_type": "code",
   "execution_count": 2,
   "metadata": {},
   "outputs": [
    {
     "name": "stdout",
     "output_type": "stream",
     "text": [
      "\u001b[1;31mDocstring:\u001b[0m\n",
      "Time execution of a Python statement or expression\n",
      "\n",
      "Usage, in line mode:\n",
      "  %timeit [-n<N> -r<R> [-t|-c] -q -p<P> -o] statement\n",
      "or in cell mode:\n",
      "  %%timeit [-n<N> -r<R> [-t|-c] -q -p<P> -o] setup_code\n",
      "  code\n",
      "  code...\n",
      "\n",
      "Time execution of a Python statement or expression using the timeit\n",
      "module.  This function can be used both as a line and cell magic:\n",
      "\n",
      "- In line mode you can time a single-line statement (though multiple\n",
      "  ones can be chained with using semicolons).\n",
      "\n",
      "- In cell mode, the statement in the first line is used as setup code\n",
      "  (executed but not timed) and the body of the cell is timed.  The cell\n",
      "  body has access to any variables created in the setup code.\n",
      "\n",
      "Options:\n",
      "-n<N>: execute the given statement <N> times in a loop. If <N> is not\n",
      "provided, <N> is determined so as to get sufficient accuracy.\n",
      "\n",
      "-r<R>: number of repeats <R>, each consisting of <N> loops, and take the\n",
      "best result.\n",
      "Default: 7\n",
      "\n",
      "-t: use time.time to measure the time, which is the default on Unix.\n",
      "This function measures wall time.\n",
      "\n",
      "-c: use time.clock to measure the time, which is the default on\n",
      "Windows and measures wall time. On Unix, resource.getrusage is used\n",
      "instead and returns the CPU user time.\n",
      "\n",
      "-p<P>: use a precision of <P> digits to display the timing result.\n",
      "Default: 3\n",
      "\n",
      "-q: Quiet, do not print result.\n",
      "\n",
      "-o: return a TimeitResult that can be stored in a variable to inspect\n",
      "    the result in more details.\n",
      "\n",
      ".. versionchanged:: 7.3\n",
      "    User variables are no longer expanded,\n",
      "    the magic line is always left unmodified.\n",
      "\n",
      "Examples\n",
      "--------\n",
      "::\n",
      "\n",
      "  In [1]: %timeit pass\n",
      "  8.26 ns ± 0.12 ns per loop (mean ± std. dev. of 7 runs, 100000000 loops each)\n",
      "\n",
      "  In [2]: u = None\n",
      "\n",
      "  In [3]: %timeit u is None\n",
      "  29.9 ns ± 0.643 ns per loop (mean ± std. dev. of 7 runs, 10000000 loops each)\n",
      "\n",
      "  In [4]: %timeit -r 4 u == None\n",
      "\n",
      "  In [5]: import time\n",
      "\n",
      "  In [6]: %timeit -n1 time.sleep(2)\n",
      "\n",
      "The times reported by %timeit will be slightly higher than those\n",
      "reported by the timeit.py script when variables are accessed. This is\n",
      "due to the fact that %timeit executes the statement in the namespace\n",
      "of the shell, compared with timeit.py, which uses a single setup\n",
      "statement to import function or create variables. Generally, the bias\n",
      "does not matter as long as results from timeit.py are not mixed with\n",
      "those from %timeit.\n",
      "\u001b[1;31mFile:\u001b[0m      e:\\saleh\\computer science\\quera\\machine learning\\qenv\\lib\\site-packages\\ipython\\core\\magics\\execution.py"
     ]
    }
   ],
   "source": [
    "%timeit?"
   ]
  },
  {
   "attachments": {},
   "cell_type": "markdown",
   "metadata": {},
   "source": [
    "<p dir=rtl style=\"direction: rtl;text-align: justify;line-height:200%;font-family:vazir;font-size:medium\">\n",
    "<font face=\"vazir\" size=3>\n",
    "همان‌طور که در درسنامه‌ی پیشین هم مطالعه کردید علامت <code>%</code> در ابتدای این دستور بیان‌گر جادویی (magic) بودن آن است و علامت <code>?</code> انتها نیز به این معنی‌ست که قصد داریم از اطلاعات کلی این شیء یا تابع مطلع شویم.\n",
    "</font>\n",
    "</p>\n",
    "\n",
    "\n",
    "<p dir=rtl style=\"direction: rtl;text-align: justify;line-height:200%;font-family:vazir;font-size:medium\">\n",
    "<font face=\"vazir\" size=3>\n",
    "در خروجی سلول بالا توضیحات بسیار مفید و کاربردی‌ای را در رابطه با <code>timeit</code> مشاهده می‌کنید.\n",
    "مثال‌هایی هم برای آشنایی بیشتر آمده است. اگر دقت کنید می‌بینید که با تنظیم <code dir=ltr>-o</code> می‌توان خروجی دستور جادویی <code>timeit</code> را در متغیری ذخیره کرد و از آن اطلاعات بیشتری \n",
    "استخراج کرد.\n",
    "\n",
    "</font>\n",
    "</p>\n"
   ]
  },
  {
   "attachments": {},
   "cell_type": "markdown",
   "metadata": {},
   "source": [
    "<h2 align=right style=\"line-height:200%;font-family:vazir;color:#0099cc\">\n",
    "<font face=\"vazir\" color=\"#0099cc\">\n",
    "سوال دوم\n",
    "</font>\n",
    "</h2>\n",
    "\n",
    "<p dir=rtl style=\"direction: rtl;text-align: justify;line-height:200%;font-family:vazir;font-size:medium\">\n",
    "<font face=\"vazir\" size=3>\n",
    "در این قسمت یک لیست ورودی دلخواه انتخاب کرده (به‌عنوان مثال <code dir=ltr>[1, 2, 3]</code>) سپس یک‌بار آن را به تابع <code>my_any</code> ورودی دهید و با استفاده از دستور جادویی <code>timeit</code> و همچنین استفاده از آرگومان <code dir=ltr>-o</code> سرعت اجرای آن را محاسبه و در متغیر <code>a</code> ذخیره کنید. سپس به‌طریق مشابه سرعت اجرای تابع <code>any</code> را محاسبه کرده و در متغیر <code>b</code> ذخیره کنید.\n",
    "</font>\n",
    "</p>"
   ]
  },
  {
   "cell_type": "code",
   "execution_count": 16,
   "metadata": {},
   "outputs": [
    {
     "name": "stdout",
     "output_type": "stream",
     "text": [
      "435 ns ± 106 ns per loop (mean ± std. dev. of 7 runs, 1,000,000 loops each)\n"
     ]
    }
   ],
   "source": [
    "my_list = [1,2,3]\n",
    "a = %timeit -o my_any(my_list)"
   ]
  },
  {
   "cell_type": "code",
   "execution_count": 17,
   "metadata": {},
   "outputs": [
    {
     "name": "stdout",
     "output_type": "stream",
     "text": [
      "208 ns ± 54.1 ns per loop (mean ± std. dev. of 7 runs, 1,000,000 loops each)\n"
     ]
    }
   ],
   "source": [
    "b = %timeit -o any(my_list)"
   ]
  },
  {
   "attachments": {},
   "cell_type": "markdown",
   "metadata": {},
   "source": [
    "<p dir=rtl style=\"direction: rtl;text-align: justify;line-height:200%;font-family:vazir;font-size:medium\">\n",
    "<font face=\"vazir\" size=3>\n",
    "شایان ذکر است که می‌توانید با استفاده از دو علامت سوال (<code>??</code>) در قابلیت <code>introspection</code> توضیحات و سورس کد یک تابع را ببینید:\n",
    "</font>\n",
    "</p>"
   ]
  },
  {
   "cell_type": "code",
   "execution_count": 7,
   "metadata": {},
   "outputs": [
    {
     "name": "stdout",
     "output_type": "stream",
     "text": [
      "\u001b[1;31mSignature:\u001b[0m \u001b[0mmy_any\u001b[0m\u001b[1;33m(\u001b[0m\u001b[0mx\u001b[0m\u001b[1;33m)\u001b[0m\u001b[1;33m\u001b[0m\u001b[1;33m\u001b[0m\u001b[0m\n",
      "\u001b[1;31mDocstring:\u001b[0m <no docstring>\n",
      "\u001b[1;31mSource:\u001b[0m   \n",
      "\u001b[1;32mdef\u001b[0m \u001b[0mmy_any\u001b[0m\u001b[1;33m(\u001b[0m\u001b[0mx\u001b[0m\u001b[1;33m)\u001b[0m\u001b[1;33m:\u001b[0m\u001b[1;33m\n",
      "\u001b[0m    \u001b[1;32mfor\u001b[0m \u001b[0mi\u001b[0m \u001b[1;32min\u001b[0m \u001b[0mx\u001b[0m\u001b[1;33m:\u001b[0m\u001b[1;33m\n",
      "\u001b[0m        \u001b[1;32mif\u001b[0m \u001b[0mi\u001b[0m\u001b[1;33m:\u001b[0m\u001b[1;33m\n",
      "\u001b[0m            \u001b[1;32mreturn\u001b[0m \u001b[1;32mTrue\u001b[0m\u001b[1;33m\n",
      "\u001b[0m    \u001b[1;32mreturn\u001b[0m \u001b[1;32mFalse\u001b[0m\u001b[1;33m\u001b[0m\u001b[1;33m\u001b[0m\u001b[0m\n",
      "\u001b[1;31mFile:\u001b[0m      c:\\users\\saleh\\appdata\\local\\temp\\ipykernel_9336\\2852376127.py\n",
      "\u001b[1;31mType:\u001b[0m      function"
     ]
    }
   ],
   "source": [
    "??my_any"
   ]
  },
  {
   "cell_type": "code",
   "execution_count": 8,
   "metadata": {},
   "outputs": [
    {
     "name": "stdout",
     "output_type": "stream",
     "text": [
      "\u001b[1;31mSignature:\u001b[0m \u001b[0many\u001b[0m\u001b[1;33m(\u001b[0m\u001b[0miterable\u001b[0m\u001b[1;33m,\u001b[0m \u001b[1;33m/\u001b[0m\u001b[1;33m)\u001b[0m\u001b[1;33m\u001b[0m\u001b[1;33m\u001b[0m\u001b[0m\n",
      "\u001b[1;31mDocstring:\u001b[0m\n",
      "Return True if bool(x) is True for any x in the iterable.\n",
      "\n",
      "If the iterable is empty, return False.\n",
      "\u001b[1;31mType:\u001b[0m      builtin_function_or_method"
     ]
    }
   ],
   "source": [
    "??any"
   ]
  },
  {
   "attachments": {},
   "cell_type": "markdown",
   "metadata": {},
   "source": [
    "<p dir=rtl style=\"direction: rtl;text-align: justify;line-height:200%;font-family:vazir;font-size:medium\">\n",
    "<font face=\"vazir\" size=3>\n",
    "با استفاده از دستور جادویی <code>save</code> کد تابع خود را در قالب فایل <code dir=ltr>.py</code> ذخیره کنید تا بتوانیم در سلول جواب‌ساز، آن را در فایل <code>result.zip</code> قرار دهیم.\n",
    "</font>\n",
    "</p>\n"
   ]
  },
  {
   "cell_type": "code",
   "execution_count": 18,
   "metadata": {},
   "outputs": [
    {
     "name": "stdout",
     "output_type": "stream",
     "text": [
      "The following commands were written to file `my_any.py`:\n",
      "def my_any(x):\n",
      "    for i in x:\n",
      "        if i:\n",
      "            return True\n",
      "    return False\n",
      "\n"
     ]
    }
   ],
   "source": [
    "from inspect import getsource\n",
    "\n",
    "%save my_any getsource(my_any)"
   ]
  },
  {
   "attachments": {},
   "cell_type": "markdown",
   "metadata": {},
   "source": [
    "\n",
    "<p dir=rtl style=\"direction: rtl;text-align: justify;line-height:200%;font-family:vazir;font-size:medium\">\n",
    "<font face=\"vazir\" size=3>\n",
    "فراموش نکنید که با <code>introspection</code> می‌توانید اطلاعات کاملی در مورد هر چیزی به دست آورید! پس اگر دستور <code>save</code> در سلول قبل برای‌تان ناآشنا بود کافیست به کمک دستور زیر اطلاعات آن را استخراج و مطالعه کنید.\n",
    "\n",
    "</font>\n",
    "</p>\n"
   ]
  },
  {
   "cell_type": "code",
   "execution_count": 9,
   "metadata": {},
   "outputs": [
    {
     "name": "stdout",
     "output_type": "stream",
     "text": [
      "\u001b[1;31mDocstring:\u001b[0m\n",
      "Save a set of lines or a macro to a given filename.\n",
      "\n",
      "Usage:\n",
      "  %save [options] filename [history]\n",
      "\n",
      "Options:\n",
      "\n",
      "  -r: use 'raw' input.  By default, the 'processed' history is used,\n",
      "  so that magics are loaded in their transformed version to valid\n",
      "  Python.  If this option is given, the raw input as typed as the\n",
      "  command line is used instead.\n",
      "  \n",
      "  -f: force overwrite.  If file exists, %save will prompt for overwrite\n",
      "  unless -f is given.\n",
      "\n",
      "  -a: append to the file instead of overwriting it.\n",
      "\n",
      "The history argument uses the same syntax as %history for input ranges,\n",
      "then saves the lines to the filename you specify.\n",
      "\n",
      "If no ranges are specified, saves history of the current session up to\n",
      "this point.\n",
      "\n",
      "It adds a '.py' extension to the file if you don't do so yourself, and\n",
      "it asks for confirmation before overwriting existing files.\n",
      "\n",
      "If `-r` option is used, the default extension is `.ipy`.\n",
      "\u001b[1;31mFile:\u001b[0m      e:\\saleh\\computer science\\quera\\machine learning\\qenv\\lib\\site-packages\\ipython\\core\\magics\\code.py"
     ]
    }
   ],
   "source": [
    "%save?"
   ]
  },
  {
   "attachments": {},
   "cell_type": "markdown",
   "metadata": {},
   "source": [
    "<h2 align=right style=\"line-height:200%;font-family:vazir;color:#0099cc\">\n",
    "<font face=\"vazir\" color=\"#0099cc\">\n",
    "<b>سلول جواب‌ساز</b>\n",
    "</font>\n",
    "</h2>\n",
    "\n",
    "\n",
    "<p dir=rtl style=\"direction: rtl; text-align: justify; line-height:200%; font-family:vazir; font-size:medium\">\n",
    "<font face=\"vazir\" size=3>\n",
    "    برای ساخته‌شدن فایل <code>result.zip</code> سلول زیر را اجرا کنید. توجه داشته باشید که پیش از اجرای سلول زیر تغییرات اعمال شده در نت‌بوک را ذخیره کرده باشید (<code>ctrl+s</code>) تا در صورت نیاز به پشتیبانی امکان بررسی کد شما وجود داشته باشد.\n",
    "</font>\n",
    "</p>"
   ]
  },
  {
   "cell_type": "code",
   "execution_count": 20,
   "metadata": {},
   "outputs": [
    {
     "name": "stdout",
     "output_type": "stream",
     "text": [
      "File Paths:\n",
      "['my_any.py', 'Ipython.ipynb', 'a', 'b']\n"
     ]
    }
   ],
   "source": [
    "import zlib\n",
    "import zipfile \n",
    "import joblib\n",
    "joblib.dump(a,\"a\")\n",
    "joblib.dump(b,\"b\")\n",
    "\n",
    "def compress(file_names):\n",
    "    print(\"File Paths:\")\n",
    "    print(file_names)\n",
    "    compression = zipfile.ZIP_DEFLATED\n",
    "    with zipfile.ZipFile(\"result.zip\", mode=\"w\") as zf:\n",
    "        for file_name in file_names:\n",
    "            zf.write('./' + file_name, file_name, compress_type=compression)\n",
    "\n",
    "file_names = ['my_any.py', 'Ipython.ipynb', 'a', 'b']\n",
    "compress(file_names)"
   ]
  },
  {
   "cell_type": "code",
   "execution_count": null,
   "metadata": {},
   "outputs": [],
   "source": []
  }
 ],
 "metadata": {
  "kernelspec": {
   "display_name": "Python 3",
   "language": "python",
   "name": "python3"
  },
  "language_info": {
   "codemirror_mode": {
    "name": "ipython",
    "version": 3
   },
   "file_extension": ".py",
   "mimetype": "text/x-python",
   "name": "python",
   "nbconvert_exporter": "python",
   "pygments_lexer": "ipython3",
   "version": "3.8.1"
  },
  "varInspector": {
   "cols": {
    "lenName": "25",
    "lenType": 16,
    "lenVar": "200"
   },
   "kernels_config": {
    "python": {
     "delete_cmd_postfix": "",
     "delete_cmd_prefix": "del ",
     "library": "var_list.py",
     "varRefreshCmd": "print(var_dic_list())"
    },
    "r": {
     "delete_cmd_postfix": ") ",
     "delete_cmd_prefix": "rm(",
     "library": "var_list.r",
     "varRefreshCmd": "cat(var_dic_list()) "
    }
   },
   "types_to_exclude": [
    "module",
    "function",
    "builtin_function_or_method",
    "instance",
    "_Feature"
   ],
   "window_display": false
  },
  "vscode": {
   "interpreter": {
    "hash": "44e7e1b8fa2096bd5707ed7fd18b1724a2db25f4c565a7673f8b6e7bfc49d25d"
   }
  }
 },
 "nbformat": 4,
 "nbformat_minor": 4
}
