{
 "cells": [
  {
   "attachments": {},
   "cell_type": "markdown",
   "metadata": {},
   "source": [
    "<h1 align=center style=\"line-height:200%;font-family:vazir;color:#0099cc\">\n",
    "<font face=\"vazir\" color=\"#0099cc\">\n",
    "الماس\n",
    "\n",
    "</font>\n",
    "</h1>\n"
   ]
  },
  {
   "attachments": {},
   "cell_type": "markdown",
   "metadata": {},
   "source": [
    "<p dir=rtl style=\"direction: rtl;text-align: justify;line-height:200%;font-family:vazir;font-size:medium\">\n",
    "<font face=\"vazir\" size=3>\n",
    "در این مسئله از داده‌های یک فروشگاه الماس که شامل اطلاعات مختلف الماس‌ها (وزن به قیراط،‌ طول، عرض، ارتفاع و غیره) است استفاده خواهیم کرد و ساخت دیتاسری و دیتافریم پانداز را با همدیگر تمرین خواهیم کرد.\n",
    "\n",
    "</font>\n",
    "</p>\n"
   ]
  },
  {
   "attachments": {},
   "cell_type": "markdown",
   "metadata": {},
   "source": [
    "<h2 align=right style=\"line-height:200%;font-family:vazir;color:#0099cc\">\n",
    "<font face=\"vazir\" color=\"#0099cc\">\n",
    "قسمت اول:\n",
    "برش ایده‌آل\n",
    "</font>\n",
    "</h2>\n",
    "<p dir=rtl style=\"direction: rtl;text-align: justify;line-height:200%;font-family:vazir;font-size:medium\">\n",
    "<font face=\"vazir\" size=3>\n",
    "برای بررسی کیفیت برش الماس‌ها از یک کارشناس کمک خواستیم و او کیفیت هر الماس را در یک لیست نوشته و لیست نهایی زیر را به ما تحویل داده است:\n",
    "  \n",
    "</font>\n",
    "</p>\n"
   ]
  },
  {
   "cell_type": "code",
   "execution_count": 1,
   "metadata": {},
   "outputs": [],
   "source": [
    "cut = ['Ideal', 'Premium', 'Premium', 'Premium', 'Premium', 'Very Good',\n",
    "       'Premium', 'Premium', 'Ideal', 'Premium', 'Good', 'Good', 'Premium', \n",
    "       'Very Good', 'Very Good', 'Good', 'Good','Very Good', 'Good', 'Good', \n",
    "       'Premium', 'Premium', 'Good', 'Good']"
   ]
  },
  {
   "attachments": {},
   "cell_type": "markdown",
   "metadata": {},
   "source": [
    "<p dir=rtl style=\"direction: rtl;text-align: justify;line-height:200%;font-family:vazir;font-size:medium\">\n",
    "<font face=\"vazir\" size=3>\n",
    "با استفاده از این اطلاعات، یک دیتاسری به نام <code>cut_series</code> بسازید. \n",
    "</font>\n",
    "</p>"
   ]
  },
  {
   "cell_type": "code",
   "execution_count": 2,
   "metadata": {},
   "outputs": [],
   "source": [
    "import pandas as pd\n",
    "cut_series = pd.Series(cut)"
   ]
  },
  {
   "attachments": {},
   "cell_type": "markdown",
   "metadata": {},
   "source": [
    "<p dir=rtl style=\"direction: rtl;text-align: justify;line-height:200%;font-family:vazir;font-size:medium\">\n",
    "<font face=\"vazir\" size=3>\n",
    "در دیتاسری <code>cut_series</code>، کیفیت برش هر الماس ذخیره شده است. حال تعداد هر کیفیت برش را به‌شکل <b>صعودی</b> در یک دیتاسری جدید به نام <code>cut_sorted</code> ذخیره کنید. یعنی عنوان و تعداد کم‌ تعداد‌ترین نوع برش، باید در ابتدای این دیتاسری قرار بگیرد.\n",
    "</font>\n",
    "</p>\n",
    "\n",
    "<p dir=rtl style=\"direction: rtl;text-align: justify;line-height:200%;font-family:vazir;font-size:medium\">\n",
    "<font face=\"vazir\" size=3>\n",
    "<span style=\"color:green\"><b>راهنمایی:</b></span>\n",
    "برای ساخت این دیتاسری، باید از یکی از توابع معرفی‌شده در درسنامه‌ی «بررسی دیتافریم» استفاده کنید.\n",
    "</font>\n",
    "</p>"
   ]
  },
  {
   "cell_type": "code",
   "execution_count": 3,
   "metadata": {},
   "outputs": [
    {
     "data": {
      "text/plain": [
       "Ideal         2\n",
       "Very Good     4\n",
       "Good          8\n",
       "Premium      10\n",
       "Name: count, dtype: int64"
      ]
     },
     "execution_count": 3,
     "metadata": {},
     "output_type": "execute_result"
    }
   ],
   "source": [
    "cut_sorted = pd.value_counts(cut_series,True,True)\n",
    "cut_sorted"
   ]
  },
  {
   "attachments": {},
   "cell_type": "markdown",
   "metadata": {},
   "source": [
    "<h2 align=right style=\"line-height:200%;font-family:vazir;color:#0099cc\">\n",
    "<font face=\"vazir\" color=\"#0099cc\">\n",
    "قسمت دوم:\n",
    "قیراط الماس‌ها\n",
    "</font>\n",
    "</h2>\n",
    "<p dir=rtl style=\"direction: rtl;text-align: right;line-height:200%;font-family:vazir;font-size:medium\">\n",
    "<font face=\"vazir\" size=3>\n",
    " با استفاده از ترازو الماس‌ها را وزن کرده و حاصل را در لیست زیر قرار داده‌ایم.\n",
    "</font>\n",
    "</p>\n"
   ]
  },
  {
   "cell_type": "code",
   "execution_count": 4,
   "metadata": {},
   "outputs": [],
   "source": [
    "carat = [1.07, 1.19, 1.19, 1.2, 1.2, 1.25, 1.2, 1.2, 1.2,\n",
    "         1.14, 1.01, 1.01, 1.01, 1.02, 1.01, 1.01, 1.01, \n",
    "         1.01, 1.01, 1.01, 1.01, 1.01, 1.0, 1.0]"
   ]
  },
  {
   "cell_type": "markdown",
   "metadata": {},
   "source": [
    "<p dir=rtl style=\"direction: rtl;text-align: justify;line-height:200%;font-family:vazir;font-size:medium\">\n",
    "<font face=\"vazir\" size=3>\n",
    "با استفاده از این اطلاعات، یک دیتاسری به نام <code>carat_series</code> بسازید.\n",
    "\n",
    "</font>\n",
    "</p>\n"
   ]
  },
  {
   "cell_type": "code",
   "execution_count": 5,
   "metadata": {},
   "outputs": [],
   "source": [
    "carat_series = pd.Series(carat)"
   ]
  },
  {
   "cell_type": "markdown",
   "metadata": {},
   "source": [
    "<p dir=rtl style=\"direction: rtl;text-align: justify;line-height:200%;font-family:vazir;font-size:medium\">\n",
    "<font face=\"vazir\" size=3>\n",
    "در فصل نامپای با صدک‌ها آشنا شدید. صدک هفتاد و پنجم این دیتاسری را محاسبه کنید و در متغیر <code>carat_75</code> ذخیره کنید.\n",
    "</font>\n",
    "</p>\n"
   ]
  },
  {
   "cell_type": "code",
   "execution_count": 6,
   "metadata": {},
   "outputs": [],
   "source": [
    "import numpy as np\n",
    "carat_75 = np.percentile( np.array(carat_series.values),75)\n"
   ]
  },
  {
   "attachments": {},
   "cell_type": "markdown",
   "metadata": {},
   "source": [
    "<h2 align=right style=\"line-height:200%;font-family:vazir;color:#0099cc\">\n",
    "<font face=\"vazir\" color=\"#0099cc\">\n",
    "قسمت سوم:\n",
    "ابعاد الماس\n",
    "</font>\n",
    "</h2>\n",
    "<p dir=rtl style=\"direction: rtl;text-align: justify;line-height:200%;font-family:vazir;font-size:medium\">\n",
    "<font face=\"vazir\" size=3>\n",
    "در این مرحله از یک کارشناس دیگر خواستیم که الماس‌ها را اندازه‌گیری کند و او یک آرایه‌ی نامپای به ما تحویل داده است.\n",
    "<br>\n",
    "یکی از راه‌های ذخیره‌سازی آرایه‌ی نامپای، استفاده از فرمت ذخیره‌سازی <code>npz</code> است. در این فایل می‌توان هر تعداد آرایه‌ی نامپای را ذخیره کرد و بعد با استفاده از نام آرایه‌ها، آرایه‌ی مورد نظر را از فایل بیرون کشید. برای آشنایی بیشتر با این فرمت می‌توانید\n",
    "<a href=\"https://stackoverflow.com/questions/54238670/what-is-the-advantage-of-saving-npz-files-instead-of-npy-in-python-regard\"> \n",
    " این لینک\n",
    "</a>\n",
    " را مطالعه کنید. \n",
    "<br>\n",
    "چون نحوه‌ی استفاده این فایل را برای شما توضیح نداده‌ایم، کد خواندن این فایل و سپس بیرون کشیدن آرایه‌ی <code>sizes</code> از آن را در سلول زیر برای شما نوشته‌ایم. آرایه‌ی حاصل در متغیری به نام <code>sizes_array</code> ذخیره می‌شود. \n",
    " \n",
    "</font>\n",
    "</p>\n"
   ]
  },
  {
   "cell_type": "code",
   "execution_count": 7,
   "metadata": {},
   "outputs": [
    {
     "data": {
      "text/plain": [
       "array([[6.46, 6.42, 4.09],\n",
       "       [6.87, 6.84, 4.17],\n",
       "       [6.73, 6.66, 4.2],\n",
       "       [6.77, 6.72, 4.22],\n",
       "       [6.77, 6.72, 4.22],\n",
       "       [6.86, 6.9, 4.27],\n",
       "       [6.93, 6.8, 4.24],\n",
       "       [6.86, 6.74, 4.21],\n",
       "       [6.73, 6.68, 4.24],\n",
       "       [6.76, 6.72, 4.13],\n",
       "       [6.19, 6.23, 4.05],\n",
       "       [6.48, 6.5, 3.79],\n",
       "       [6.46, 6.41, 3.94],\n",
       "       [6.34, 6.41, 4.06],\n",
       "       [6.35, 6.3, 4.0],\n",
       "       [6.35, 6.3, 4.02],\n",
       "       [6.37, 6.31, 4.05],\n",
       "       [6.39, 6.34, 4.02],\n",
       "       [6.4, 6.32, 4.05],\n",
       "       [6.58, 6.53, 3.77],\n",
       "       [6.46, 6.37, 3.92],\n",
       "       [6.44, 6.38, 3.95],\n",
       "       [6.33, 6.38, 4.01],\n",
       "       [6.27, 6.31, 3.99]], dtype=object)"
      ]
     },
     "execution_count": 7,
     "metadata": {},
     "output_type": "execute_result"
    }
   ],
   "source": [
    "import numpy as np\n",
    "\n",
    "sizes = np.load('sizes.npz', allow_pickle=True)\n",
    "sizes_array = sizes['sizes']\n",
    "sizes_array"
   ]
  },
  {
   "attachments": {},
   "cell_type": "markdown",
   "metadata": {},
   "source": [
    "\n",
    "<p dir=rtl style=\"direction: rtl;text-align: right;line-height:200%;font-family:vazir;font-size:medium\">\n",
    "<font face=\"vazir\" size=3>\n",
    " آرایه‌ی <code>sizes_array</code> دارای سه ستون است. در ستون اول طول، در ستون دوم عرض و در ستون سوم ارتفاع الماس‌ها ذخیره شده است. \n",
    " <br>\n",
    "با استفاده از این آرایه، یک دیتافریم به نام <code>sizes_df</code> بسازید و نام ستون‌های آن را برابر <code>x</code> , <code>y</code> , <code>z</code> قرار دهید. (اولین ستون <code>x</code> نام دارد).\n",
    " </font>\n",
    "</p>\n"
   ]
  },
  {
   "cell_type": "code",
   "execution_count": 8,
   "metadata": {},
   "outputs": [],
   "source": [
    "sizes_df = pd.DataFrame(sizes_array,columns=['x','y','z'])"
   ]
  },
  {
   "attachments": {},
   "cell_type": "markdown",
   "metadata": {},
   "source": [
    "<h2 align=right style=\"line-height:200%;font-family:vazir;color:#0099cc\">\n",
    "<font face=\"vazir\" color=\"#0099cc\">\n",
    "قسمت چهارم:\n",
    "نمایه‌سازی\n",
    "</font>\n",
    "</h2>\n",
    "<p dir=rtl style=\"direction: rtl;text-align: justify;line-height:200%;font-family:vazir;font-size:medium\">\n",
    "<font face=\"vazir\" size=3>\n",
    "    برخلاف دنیای برنامه‌نویسان در کسب‌و‌کار الماس مرسوم نیست که شماره‌گذاری از <code>0</code> شروع شود. بنابراین نمایه‌ها را طوری تغییر دهید که از <code>1</code> شروع شوند.  \n",
    "دیتافریم جدید را در <code>sizes_new_index</code> ذخیره کنید.\n",
    "<br>\n",
    "\n",
    "</font>\n",
    "</p>\n"
   ]
  },
  {
   "cell_type": "code",
   "execution_count": 9,
   "metadata": {},
   "outputs": [],
   "source": [
    "sizes_new_index = sizes_df.copy()\n",
    "sizes_new_index = sizes_new_index.set_index(pd.RangeIndex(start=1, stop=25, step=1))"
   ]
  },
  {
   "attachments": {},
   "cell_type": "markdown",
   "metadata": {},
   "source": [
    "<h2 align=right style=\"line-height:200%;font-family:vazir;color:#0099cc\">\n",
    "<font face=\"vazir\" color=\"#0099cc\">\n",
    "<b>سلول جواب‌ساز</b>\n",
    "</font>\n",
    "</h2>\n",
    "\n",
    "\n",
    "<p dir=rtl style=\"direction: rtl; text-align: justify; line-height:200%; font-family:vazir; font-size:medium\">\n",
    "<font face=\"vazir\" size=3>\n",
    "    برای ساخته‌شدن فایل <code>result.zip</code> سلول زیر را اجرا کنید. توجه داشته باشید که پیش از اجرای سلول زیر تغییرات اعمال شده در نت‌بوک را ذخیره کرده باشید (<code>ctrl+s</code>) تا در صورت نیاز به پشتیبانی امکان بررسی کد شما وجود داشته باشد.\n",
    "</font>\n",
    "</p>"
   ]
  },
  {
   "cell_type": "code",
   "execution_count": 10,
   "metadata": {},
   "outputs": [
    {
     "name": "stdout",
     "output_type": "stream",
     "text": [
      "File Paths:\n",
      "['cut_series.csv', 'cut_sorted.csv', 'carat_series.csv', 'carat_75', 'sizes_df.csv', 'sizes_new_index.csv', 'diamond.ipynb']\n"
     ]
    }
   ],
   "source": [
    "import zipfile\n",
    "import joblib\n",
    "\n",
    "carat_series.to_csv(\"carat_series.csv\")\n",
    "cut_sorted.to_csv(\"cut_sorted.csv\")\n",
    "cut_sorted.to_csv(\"cut_series.csv\")\n",
    "joblib.dump(carat_75,\"carat_75\")\n",
    "sizes_df.to_csv(\"sizes_df.csv\",index = True)\n",
    "sizes_df.to_csv(\"sizes_new_index.csv\",index = True)\n",
    "                \n",
    "def compress(file_names):\n",
    "    print(\"File Paths:\")\n",
    "    print(file_names)\n",
    "    compression = zipfile.ZIP_DEFLATED\n",
    "    with zipfile.ZipFile(\"result.zip\", mode=\"w\") as zf:\n",
    "        for file_name in file_names:\n",
    "            zf.write('./' + file_name, file_name, compress_type=compression)\n",
    "\n",
    "file_names = [\"cut_series.csv\", \"cut_sorted.csv\", \"carat_series.csv\",\n",
    "              \"carat_75\", \"sizes_df.csv\", \"sizes_new_index.csv\", \"diamond.ipynb\"]\n",
    "compress(file_names)"
   ]
  }
 ],
 "metadata": {
  "kernelspec": {
   "display_name": "Python 3",
   "language": "python",
   "name": "python3"
  },
  "language_info": {
   "codemirror_mode": {
    "name": "ipython",
    "version": 3
   },
   "file_extension": ".py",
   "mimetype": "text/x-python",
   "name": "python",
   "nbconvert_exporter": "python",
   "pygments_lexer": "ipython3",
   "version": "3.8.1"
  },
  "vscode": {
   "interpreter": {
    "hash": "44e7e1b8fa2096bd5707ed7fd18b1724a2db25f4c565a7673f8b6e7bfc49d25d"
   }
  }
 },
 "nbformat": 4,
 "nbformat_minor": 2
}
