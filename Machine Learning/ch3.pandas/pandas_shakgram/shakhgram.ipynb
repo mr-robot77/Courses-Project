{
 "cells": [
  {
   "cell_type": "markdown",
   "id": "d64d01af",
   "metadata": {},
   "source": [
    "<h1 align=center style=\"line-height:200%;font-family:vazir;color:#0099cc\">\n",
    "<font face=\"vazir\" color=\"#0099cc\">\n",
    "    شاخگرام\n",
    "</font>\n",
    "</h1>\n"
   ]
  },
  {
   "attachments": {},
   "cell_type": "markdown",
   "id": "4e177dbd-7e65-45b6-8221-1dec02f863e2",
   "metadata": {},
   "source": [
    "<div dir=rtl id=\"start\" style=\"direction: rtl;text-align: justify;line-height:200%;font-family:vazir;font-size:medium\">\n",
    "\t<font face=\"vazir\" size=3>\n",
    "در درسنامه‌های پیشین با ساختمان‌داده‌های پرکاربرد در پانداز آشنا شدیم. در این تمرین، قصد داریم انتخاب داده از یک دیتافریم را بیشتر تمرین کنیم.\n",
    "مجموعه‌داده‌ای که برای این تمرین در دست داریم، مربوط به یک شبکه‌ی اجتماعی فرضی به نام شاخگرام است که در آن افراد سعی می‌کنند هرچه بیشتر شاخ شوند!\n",
    " هدف اصلی این تمرین بررسی داده‌های شاخگرام و نوشتن شرط‌های گوناگون جهت فیلتر کردن شاخ‌های سطوح مختلف است.\n",
    "    </font>\n",
    "</div>"
   ]
  },
  {
   "cell_type": "code",
   "execution_count": 1,
   "id": "3934f0cc",
   "metadata": {},
   "outputs": [],
   "source": [
    "import pandas as pd\n",
    "import numpy as np"
   ]
  },
  {
   "attachments": {},
   "cell_type": "markdown",
   "id": "1792e7ff",
   "metadata": {},
   "source": [
    "<h2 align=right style=\"line-height:200%;font-family:vazir;color:#0099cc\">\n",
    "<font face=\"vazir\" color=\"#0099cc\">\n",
    "مجموعه‌داده\n",
    "</font>\n",
    "</h2>\n",
    "\n",
    "<p dir=rtl style=\"direction: rtl;text-align: justify;line-height:200%;font-family:vazir;font-size:medium\">\n",
    "<font face=\"vazir\" size=3>\n",
    "داده‌های مربوط به این تمرین در فایل <code>shakhgram.csv</code> قرار گرفته و به کمک سلول زیر می‌توانید آن را به شکل یک دیتافریم بخوانید و در متغیر <code>df</code> ذخیره کنید. این دیتافریم شامل ستون‌های زیر است:\n",
    "</font>\n",
    "</p>\n",
    "\n",
    "<center>\n",
    "<div dir=rtl style=\"direction: rtl;line-height:200%;font-family:vazir;font-size:medium\">\n",
    "<font face=\"vazir\" size=3>\n",
    "\n",
    "| نام ستون | توضیحات |\n",
    "| :---: | :---: |\n",
    "| `owner_name` | اسم صاحب پیج |\n",
    "| `follower` | تعداد دنبال‌کنندگان پیج |\n",
    "| `following` | تعداد دنبال‌شوندگان پیج |\n",
    "| `post_number` | تعداد پست‌های پیج |\n",
    "\n",
    "</font>\n",
    "</div>\n",
    "</center>"
   ]
  },
  {
   "cell_type": "code",
   "execution_count": 2,
   "id": "c5312517",
   "metadata": {},
   "outputs": [],
   "source": [
    "df = pd.read_csv(\"shakhgram.csv\")"
   ]
  },
  {
   "attachments": {},
   "cell_type": "markdown",
   "id": "b562fdc1-2071-47e5-8aae-eb3581aadd99",
   "metadata": {},
   "source": [
    "<h2 align=right style=\"line-height:200%;font-family:vazir;color:#0099cc\">\n",
    "<font face=\"vazir\" color=\"#0099cc\">\n",
    "    مشاهده‌ی داده‌ها\n",
    "    </font>\n",
    "</h2>\n",
    "\n",
    "<p dir=rtl style=\"direction: rtl;text-align: justify;line-height:200%;font-family:vazir;font-size:medium\">\n",
    "<font face=\"vazir\" size=3>\n",
    "با اجرای سلول زیر، ۵ سطر اول دیتافریم نمایش داده می‌شود تا یک نگاه کلی به داده‌ها داشته باشیم.\n",
    "پیشنهاد می‌کنیم سعی کنید ستون‌ها و سطرهای مختلفی از دیتافریم را انتخاب و مشاهده کنید تا علاوه بر این‌که با مجموعه‌داده بیشتر آشنا می‌شوید، برای پیاده‌سازی پاسخ تمرین نیز آماده‌تر شوید!\n",
    "</font>\n",
    "</p>"
   ]
  },
  {
   "cell_type": "code",
   "execution_count": 3,
   "id": "856f8d8c",
   "metadata": {},
   "outputs": [
    {
     "data": {
      "text/html": [
       "<div>\n",
       "<style scoped>\n",
       "    .dataframe tbody tr th:only-of-type {\n",
       "        vertical-align: middle;\n",
       "    }\n",
       "\n",
       "    .dataframe tbody tr th {\n",
       "        vertical-align: top;\n",
       "    }\n",
       "\n",
       "    .dataframe thead th {\n",
       "        text-align: right;\n",
       "    }\n",
       "</style>\n",
       "<table border=\"1\" class=\"dataframe\">\n",
       "  <thead>\n",
       "    <tr style=\"text-align: right;\">\n",
       "      <th></th>\n",
       "      <th>owner_name</th>\n",
       "      <th>follower</th>\n",
       "      <th>following</th>\n",
       "      <th>post_number</th>\n",
       "    </tr>\n",
       "  </thead>\n",
       "  <tbody>\n",
       "    <tr>\n",
       "      <th>0</th>\n",
       "      <td>Muhammad Schaefer</td>\n",
       "      <td>108751787.0</td>\n",
       "      <td>45.0</td>\n",
       "      <td>61.0</td>\n",
       "    </tr>\n",
       "    <tr>\n",
       "      <th>1</th>\n",
       "      <td>Ezra Kemp</td>\n",
       "      <td>172731383.0</td>\n",
       "      <td>71.0</td>\n",
       "      <td>43.0</td>\n",
       "    </tr>\n",
       "    <tr>\n",
       "      <th>2</th>\n",
       "      <td>Eli Good</td>\n",
       "      <td>105194939.0</td>\n",
       "      <td>20.0</td>\n",
       "      <td>44.0</td>\n",
       "    </tr>\n",
       "    <tr>\n",
       "      <th>3</th>\n",
       "      <td>Lillianna Pruitt</td>\n",
       "      <td>14807976.0</td>\n",
       "      <td>11.0</td>\n",
       "      <td>88.0</td>\n",
       "    </tr>\n",
       "    <tr>\n",
       "      <th>4</th>\n",
       "      <td>Carlie Woodward</td>\n",
       "      <td>228517005.0</td>\n",
       "      <td>68.0</td>\n",
       "      <td>52.0</td>\n",
       "    </tr>\n",
       "  </tbody>\n",
       "</table>\n",
       "</div>"
      ],
      "text/plain": [
       "          owner_name     follower  following  post_number\n",
       "0  Muhammad Schaefer  108751787.0       45.0         61.0\n",
       "1          Ezra Kemp  172731383.0       71.0         43.0\n",
       "2           Eli Good  105194939.0       20.0         44.0\n",
       "3   Lillianna Pruitt   14807976.0       11.0         88.0\n",
       "4    Carlie Woodward  228517005.0       68.0         52.0"
      ]
     },
     "execution_count": 3,
     "metadata": {},
     "output_type": "execute_result"
    }
   ],
   "source": [
    "df.head()"
   ]
  },
  {
   "attachments": {},
   "cell_type": "markdown",
   "id": "aa82e222",
   "metadata": {},
   "source": [
    "<h2 align=right style=\"line-height:200%;font-family:vazir;color:#0099cc\">\n",
    "<font face=\"vazir\" color=\"#0099cc\">\n",
    "    قسمت اول\n",
    "    </font>\n",
    "</h2>\n",
    "\n",
    "<p dir=rtl style=\"direction: rtl;text-align: justify;line-height:200%;font-family:vazir;font-size:medium\">\n",
    "<font face=\"vazir\" size=3>\n",
    "    در این شبکه‌ی اجتماعی، ۵ دسته از شاخ‌بودن وجود دارد. برای این‌که عضو هر دسته باشیم، می‌بایست پیج و اسم ما شرایط خاصی داشته باشد.\n",
    "    <br>\n",
    "    اولین دسته‌ از شاخ‌های شاخگرام، شاخ‌های برنجی هستند؛ شاخ‌های برنجی،  افرادی هستند که تعداد افرادی که توسط پیج‌شان دنبال می‌شوند (<code>following</code>) <b>از ۱۱ کمتر</b> باشد.\n",
    "    <br>\n",
    "    در سلول زیر، بخشی از دیتافریم اصلی را که شرایط شاخ‌های برنجی دارند جدا کرده و در متغیر <code>berenji_df</code> ذخیره کنید.\n",
    "</font>\n",
    "</p>"
   ]
  },
  {
   "cell_type": "code",
   "execution_count": 4,
   "id": "f16be0eb",
   "metadata": {},
   "outputs": [],
   "source": [
    "berenji_df = df[df.following<11]"
   ]
  },
  {
   "attachments": {},
   "cell_type": "markdown",
   "id": "77416747",
   "metadata": {},
   "source": [
    "<h2 align=right style=\"line-height:200%;font-family:vazir;color:#0099cc\">\n",
    "<font face=\"vazir\" color=\"#0099cc\">\n",
    "    قسمت دوم\n",
    "    </font>\n",
    "</h2>\n",
    "\n",
    "<p dir=rtl style=\"direction: rtl;text-align: justify;line-height:200%;font-family:vazir;font-size:medium\">\n",
    "<font face=\"vazir\" size=3>\n",
    "    در متغیر <code>mesi_df</code>، شاخ‌های مسی را ذخیره کنید؛ شاخ‌های مسی، افرادی هستند که تعداد پست‌های پیج‌شان از تعداد افرادی که آن پیج دنبال‌شان می‌کند (<code>following</code>) بیشتر باشد.\n",
    "</font>\n",
    "</p>"
   ]
  },
  {
   "cell_type": "code",
   "execution_count": 5,
   "id": "51f5a12b",
   "metadata": {},
   "outputs": [],
   "source": [
    "mesi_df = df[df.following<df.post_number]"
   ]
  },
  {
   "attachments": {},
   "cell_type": "markdown",
   "id": "5bf37fd8-813b-4882-b8ba-b361fdc62f0e",
   "metadata": {},
   "source": [
    "<h2 align=right style=\"line-height:200%;font-family:vazir;color:#0099cc\">\n",
    "<font face=\"vazir\" color=\"#0099cc\">\n",
    "    قسمت سوم\n",
    "    </font>\n",
    "</h2>\n",
    "\n",
    "<p dir=rtl style=\"direction: rtl;text-align: justify;line-height:200%;font-family:vazir;font-size:medium\">\n",
    "<font face=\"vazir\" size=3>\n",
    "    در متغیر <code>boronzi_df</code>، شاخ‌های برنزی را ذخیره کنید؛\n",
    "    شاخ‌های برنزی، افرادی هستند که تعداد دنبال‌کنندگان (<code>follower</code>) پیج‌شان بیشتر از یک میلیون نفر باشد.\n",
    "</font>\n",
    "</p>"
   ]
  },
  {
   "cell_type": "code",
   "execution_count": 6,
   "id": "76184e27",
   "metadata": {
    "tags": []
   },
   "outputs": [],
   "source": [
    "boronzi_df = df[df.follower>1000000]"
   ]
  },
  {
   "attachments": {},
   "cell_type": "markdown",
   "id": "e8ef45c6-0367-4e24-82c0-9ab6b97a34b2",
   "metadata": {},
   "source": [
    "<h2 align=right style=\"line-height:200%;font-family:vazir;color:#0099cc\">\n",
    "<font face=\"vazir\" color=\"#0099cc\">\n",
    "    قسمت چهارم\n",
    "    </font>\n",
    "</h2>\n",
    "\n",
    "<p dir=rtl style=\"direction: rtl;text-align: justify;line-height:200%;font-family:vazir;font-size:medium\">\n",
    "<font face=\"vazir\" size=3>\n",
    "    در متغیر <code>noghreyee_df</code>، شاخ‌های نقره‌ای را ذخیره کنید؛ شاخ‌های نقره‌ای،‌ افرادی هستند که دو شرط زیر همزمان برای آن‌ها برقرار باشد:\n",
    "    <ol dir=rtl>\n",
    "        <li>تعداد دنبال‌کنندگان (<code>follower</code>) پیج‌شان بزرگ‌تر یا مساوی ۱۰ میلیون باشد.</li>\n",
    "        <li>تعداد دنبال‌شوندگان توسط پیج (<code>following</code>) کم‌تر از ۵۰ باشد.</li>\n",
    "    </ol>\n",
    "</font>\n",
    "</p>"
   ]
  },
  {
   "cell_type": "code",
   "execution_count": 7,
   "id": "6b8b4f92",
   "metadata": {
    "tags": []
   },
   "outputs": [],
   "source": [
    "noghreyee_df = df[(df.follower>=10000000) & (df.following<50)]"
   ]
  },
  {
   "attachments": {},
   "cell_type": "markdown",
   "id": "79b40e28-7007-48b5-95b1-bd8c3e5f05ae",
   "metadata": {},
   "source": [
    "<h2 align=right style=\"line-height:200%;font-family:vazir;color:#0099cc\">\n",
    "<font face=\"vazir\" color=\"#0099cc\">\n",
    "    قسمت پنجم\n",
    "    </font>\n",
    "</h2>\n",
    "\n",
    "<p dir=rtl style=\"direction: rtl;text-align: justify;line-height:200%;font-family:vazir;font-size:medium\">\n",
    "<font face=\"vazir\" size=3>\n",
    "        در متغیر <code>talayee_df</code>، شاخ‌های طلایی را ذخیره کنید؛\n",
    "شاخ‌های طلایی افرادی هستند که حداقل یکی از دو شرط زیر را داشته باشند (یعنی شرط اول یا شرط دوم)\n",
    "<ol dir=rtl>\n",
    "        <li>تعداد دنبال‌کنندگان (<code>follower</code>) پیج‌شان بزرگ‌تر از ۱۰ میلیون و تعداد دنبال‌شوندگان (<code>following</code>) آن‌ها کمتر از ۲۰ باشد.</li>\n",
    "        <li>تعداد پست‌های‌شان کمتر از ۱۵ باشد و حرف <code>R</code> در اسم صاحب پیج وجود داشته باشد (مثل <code dir=ltr>!BooAzaR</code>).</li>\n",
    "    </ol>\n",
    "</font>\n",
    "</p>"
   ]
  },
  {
   "cell_type": "code",
   "execution_count": 8,
   "id": "099d1ff4",
   "metadata": {},
   "outputs": [],
   "source": [
    "talayee_df = df[((df.follower>10000000) & (df.following<20) | (df.post_number<15) & (df.owner_name.str.contains('R')))]"
   ]
  },
  {
   "attachments": {},
   "cell_type": "markdown",
   "id": "ad56a791-6354-4597-babf-c9df1c83ca73",
   "metadata": {},
   "source": [
    "<h2 align=right style=\"line-height:200%;font-family:vazir;color:#0099cc\">\n",
    "<font face=\"vazir\" color=\"#0099cc\">\n",
    "<b>سلول جواب‌ساز</b>\n",
    "</font>\n",
    "</h2>\n",
    "\n",
    "\n",
    "<p dir=rtl style=\"direction: rtl; text-align: justify; line-height:200%; font-family:vazir; font-size:medium\">\n",
    "<font face=\"vazir\" size=3>\n",
    "    برای ساخته‌شدن فایل <code>result.zip</code> سلول زیر را اجرا کنید. توجه داشته باشید که پیش از اجرای سلول زیر تغییرات اعمال شده در نت‌بوک را ذخیره کرده باشید (<code>ctrl+s</code>) تا در صورت نیاز به پشتیبانی امکان بررسی کد شما وجود داشته باشد.\n",
    "</font>\n",
    "</p>"
   ]
  },
  {
   "cell_type": "code",
   "execution_count": 9,
   "id": "9b01fa06",
   "metadata": {},
   "outputs": [
    {
     "name": "stdout",
     "output_type": "stream",
     "text": [
      "File Paths:\n",
      "['berenji.csv', 'mesi.csv', 'boronzi.csv', 'noghreyee.csv', 'talayee.csv', 'shakhgram.ipynb']\n"
     ]
    }
   ],
   "source": [
    "import zlib\n",
    "import zipfile\n",
    "\n",
    "berenji_df.to_csv('berenji.csv', index=True)\n",
    "mesi_df.to_csv('mesi.csv', index=True)\n",
    "boronzi_df.to_csv(\"boronzi.csv\", index=True)\n",
    "noghreyee_df.to_csv(\"noghreyee.csv\", index=True)\n",
    "talayee_df.to_csv(\"talayee.csv\", index=True)\n",
    "\n",
    "def compress(file_names):\n",
    "    print(\"File Paths:\")\n",
    "    print(file_names)\n",
    "    compression = zipfile.ZIP_DEFLATED\n",
    "    with zipfile.ZipFile(\"result.zip\", mode=\"w\") as zf:\n",
    "        for file_name in file_names:\n",
    "            zf.write('./' + file_name, file_name, compress_type=compression)\n",
    "\n",
    "file_names = [\"berenji.csv\", \"mesi.csv\", \"boronzi.csv\",\n",
    "              \"noghreyee.csv\", \"talayee.csv\", \"shakhgram.ipynb\"]\n",
    "compress(file_names)"
   ]
  }
 ],
 "metadata": {
  "kernelspec": {
   "display_name": "Python 3",
   "language": "python",
   "name": "python3"
  },
  "language_info": {
   "codemirror_mode": {
    "name": "ipython",
    "version": 3
   },
   "file_extension": ".py",
   "mimetype": "text/x-python",
   "name": "python",
   "nbconvert_exporter": "python",
   "pygments_lexer": "ipython3",
   "version": "3.8.1"
  },
  "vscode": {
   "interpreter": {
    "hash": "44e7e1b8fa2096bd5707ed7fd18b1724a2db25f4c565a7673f8b6e7bfc49d25d"
   }
  }
 },
 "nbformat": 4,
 "nbformat_minor": 5
}
