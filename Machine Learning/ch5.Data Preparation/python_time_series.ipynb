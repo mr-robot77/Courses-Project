{
 "cells": [
  {
   "attachments": {},
   "cell_type": "markdown",
   "metadata": {},
   "source": [
    "<div align=center style=\"line-height:200%;font-family:vazir;font-size:medium;color:#0099cc\">\n",
    "<h1>\n",
    "سری زمانی: یادآوری پایتون\n",
    "</h1>\n",
    "</p>\n",
    "</div>"
   ]
  },
  {
   "cell_type": "code",
   "execution_count": 1,
   "metadata": {},
   "outputs": [
    {
     "name": "stdout",
     "output_type": "stream",
     "text": [
      "2021-09-03\n"
     ]
    }
   ],
   "source": [
    "from datetime import date\n",
    "today = date(2021,9,3)\n",
    "print(today)"
   ]
  },
  {
   "cell_type": "code",
   "execution_count": 2,
   "metadata": {},
   "outputs": [
    {
     "name": "stdout",
     "output_type": "stream",
     "text": [
      "2021\n",
      "9\n",
      "3\n",
      "4\n"
     ]
    }
   ],
   "source": [
    "print(today.year)\n",
    "print(today.month)\n",
    "print(today.day)\n",
    "print(today.weekday())"
   ]
  },
  {
   "cell_type": "code",
   "execution_count": 3,
   "metadata": {},
   "outputs": [
    {
     "data": {
      "text/plain": [
       "datetime.time(23, 14, 5, 10)"
      ]
     },
     "execution_count": 3,
     "metadata": {},
     "output_type": "execute_result"
    }
   ],
   "source": [
    "from datetime import time\n",
    "t_now = time(23,14,5,10)\n",
    "t_now"
   ]
  },
  {
   "cell_type": "code",
   "execution_count": 4,
   "metadata": {},
   "outputs": [
    {
     "name": "stdout",
     "output_type": "stream",
     "text": [
      "23\n",
      "14\n",
      "5\n",
      "10\n"
     ]
    }
   ],
   "source": [
    "print(t_now.hour)\n",
    "print(t_now.minute)\n",
    "print(t_now.second)\n",
    "print(t_now.microsecond)"
   ]
  },
  {
   "cell_type": "code",
   "execution_count": 5,
   "metadata": {},
   "outputs": [
    {
     "name": "stdout",
     "output_type": "stream",
     "text": [
      "2021-09-03 23:14:05.000010\n"
     ]
    }
   ],
   "source": [
    "from datetime import datetime\n",
    "now = datetime(2021,9,3, 23,14,5,10)\n",
    "\n",
    "print(now)"
   ]
  },
  {
   "cell_type": "code",
   "execution_count": 6,
   "metadata": {},
   "outputs": [
    {
     "name": "stdout",
     "output_type": "stream",
     "text": [
      "2021-09-03\n",
      "2021\n",
      "9\n",
      "3\n"
     ]
    }
   ],
   "source": [
    "now_date = now.date()\n",
    "print(now_date)\n",
    "print(now_date.year)\n",
    "print(now_date.month)\n",
    "print(now_date.day)"
   ]
  },
  {
   "cell_type": "code",
   "execution_count": 7,
   "metadata": {},
   "outputs": [
    {
     "name": "stdout",
     "output_type": "stream",
     "text": [
      "23:14:05.000010\n",
      "23\n",
      "14\n",
      "5\n",
      "10\n"
     ]
    }
   ],
   "source": [
    "now_time = now.time()\n",
    "print(now_time)\n",
    "print(now_time.hour)\n",
    "print(now_time.minute)\n",
    "print(now_time.second)\n",
    "print(now_time.microsecond)"
   ]
  },
  {
   "cell_type": "code",
   "execution_count": 8,
   "metadata": {},
   "outputs": [
    {
     "data": {
      "text/plain": [
       "datetime.timedelta(days=758)"
      ]
     },
     "execution_count": 8,
     "metadata": {},
     "output_type": "execute_result"
    }
   ],
   "source": [
    "t1 = date(2019,10,5)\n",
    "t2 = date(2021, 11, 1)\n",
    "t2 - t1"
   ]
  },
  {
   "cell_type": "code",
   "execution_count": 9,
   "metadata": {},
   "outputs": [
    {
     "name": "stdout",
     "output_type": "stream",
     "text": [
      "2021-09-01 00:00:00\n",
      "2021-08-30 00:00:00\n"
     ]
    }
   ],
   "source": [
    "from datetime import timedelta \n",
    "\n",
    "difference = timedelta(days=1)\n",
    "end_of_month = datetime(2021,8,31) \n",
    "\n",
    "next_day = end_of_month + difference\n",
    "prev_day = end_of_month - difference\n",
    "\n",
    "print(next_day)\n",
    "print(prev_day)"
   ]
  },
  {
   "cell_type": "code",
   "execution_count": 10,
   "metadata": {},
   "outputs": [
    {
     "data": {
      "text/plain": [
       "datetime.datetime(2021, 8, 3, 0, 0)"
      ]
     },
     "execution_count": 10,
     "metadata": {},
     "output_type": "execute_result"
    }
   ],
   "source": [
    "from datetime import datetime\n",
    "date_in_string = \"2021-08-03\"\n",
    "\n",
    "date_in_datetime = datetime.strptime(date_in_string,'%Y-%m-%d')\n",
    "date_in_datetime"
   ]
  },
  {
   "cell_type": "code",
   "execution_count": null,
   "metadata": {},
   "outputs": [],
   "source": []
  }
 ],
 "metadata": {
  "kernelspec": {
   "display_name": "qenv",
   "language": "python",
   "name": "python3"
  },
  "language_info": {
   "codemirror_mode": {
    "name": "ipython",
    "version": 3
   },
   "file_extension": ".py",
   "mimetype": "text/x-python",
   "name": "python",
   "nbconvert_exporter": "python",
   "pygments_lexer": "ipython3",
   "version": "3.9.13"
  },
  "orig_nbformat": 4
 },
 "nbformat": 4,
 "nbformat_minor": 2
}
