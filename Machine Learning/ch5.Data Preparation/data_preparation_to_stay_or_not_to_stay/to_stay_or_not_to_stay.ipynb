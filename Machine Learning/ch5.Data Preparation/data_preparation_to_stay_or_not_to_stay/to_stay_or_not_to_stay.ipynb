{
 "cells": [
  {
   "attachments": {},
   "cell_type": "markdown",
   "id": "4fc6a194",
   "metadata": {},
   "source": [
    "<h1 align=center style=\"direction: rtl;line-height:200%;font-family:vazir;color:#0099cc\">\n",
    "<font face=\"vazir\" color=\"#0099cc\">\n",
    "ماندن یا نماندن؛ مسئله این است!\n",
    "</font>\n",
    "</h1>"
   ]
  },
  {
   "attachments": {},
   "cell_type": "markdown",
   "id": "75a70eeb",
   "metadata": {},
   "source": [
    "<h3 align=right style=\"line-height:200%;font-family:vazir;color:#0099cc\">\n",
    "<font face=\"vazir\" color=\"#0099cc\">\n",
    "    توضیحات ابتدایی\n",
    "</font>\n",
    "</h3>\n",
    "\n",
    "<p dir=rtl style=\"direction: rtl;text-align: justify;line-height:200%;font-family:vazir;font-size:medium\">\n",
    "<font face=\"vazir\" size=3>\n",
    "    در درسنامه‌های گذشته با حذف مقادیر از داده و مدیریت مقادیر گم‌شده آشنا شدیم. حال در این تمرین قصد داریم با تمرین و کد زدن مهارت خود را به چالش بکشیم! این تمرین در دو بخش آماده شده‌ است: بخش اول به منظور پیش‌پردازش و بخش دوم برای پاسخ‌دهی به تعدادی سوال تحلیلی از داده طراحی شده‌ است.    \n",
    "    <br>\n",
    "    فایل \n",
    "    <code>migration_rate.csv</code>\n",
    "    آمار «مهاجرت به» و «مهاجرت از» کشور‌های مختلف را از سال ۱۹۹۰ تا ۲۰۲۰ نشان می‌دهد. هدف این تمرین، تحلیل نرخ مهاجرت تعدادی از کشورهای موجود در این فایل است. در سلول زیر، توضیحات ستون‌های متفاوت این مجموعه‌داده را مشاهده می‌کنید.\n",
    "</font>\n",
    "</p>"
   ]
  },
  {
   "attachments": {},
   "cell_type": "markdown",
   "id": "5f547b9e",
   "metadata": {},
   "source": [
    "<div dir=rtl style=\"direction: rtl;text-align: right;line-height:200%;font-family:vazir;font-size:medium\">\n",
    "<font face=\"vazir\" size=3>\n",
    "<center>\n",
    "\n",
    "| نام ستون| توضیح ستون|\n",
    "|:------------------:|:------------------:|\n",
    "| Country | نام کشور |\n",
    "| 1990   | در این ستون نرخ مهاجرت هر کشور در سال ۱۹۹۰ آمده‌ است.|\n",
    "| 1995   |در این ستون نرخ مهاجرت هر کشور در سال ۱۹۹۵ آمده‌ است.|\n",
    "| 2000   |در این ستون نرخ مهاجرت هر کشور در سال ۲۰۰۰ آمده‌ است.|\n",
    "| 2005   |در این ستون نرخ مهاجرت هر کشور در سال ۲۰۰۵ آمده‌ است.|\n",
    "| 2010   |در این ستون نرخ مهاجرت هر کشور در سال ۲۰۱۰ آمده‌ است.|\n",
    "| 2015   |در این ستون نرخ مهاجرت هر کشور در سال ۲۰۱۵ آمده‌ است.|\n",
    "| 2020   |در این ستون نرخ مهاجرت هر کشور در سال ۲۰۲۰ آمده‌ است.|\n",
    "\n",
    "</center>\n",
    "</font>\n",
    "</div>"
   ]
  },
  {
   "attachments": {},
   "cell_type": "markdown",
   "id": "365be803",
   "metadata": {},
   "source": [
    "\n",
    "<h3 align=right style=\"line-height:200%;font-family:vazir;color:#0099cc\">\n",
    "<font face=\"vazir\" color=\"#0099cc\">\n",
    "    فرمول محاسبه‌ی نرخ مهاجرت\n",
    "</font>\n",
    "</h3>\n",
    "\n",
    "<p dir=rtl style=\"direction: rtl;text-align: justify;line-height:200%;font-family:vazir;font-size:medium\">\n",
    "<font face=\"vazir\" size=3>\n",
    "    نرخ مهاجرت حاصل نسبت تفاوت مهاجران به کشور و مهاجران از کشور، به جمعیت کشور در آن سال به ازای هر ۱۰۰۰ نفر است. به فرمول زیر توجه کنید.\n",
    "    </font>\n",
    "</p>\n",
    "\n",
    "##### $$\\frac{(\\text{migration in} - \\text{migration out}) * 1000 }{population}$$\n",
    "\n",
    "<p dir=rtl style=\"direction:trl; text-align: justify;line-height:200%;font-family:vazir;font-size:medium\">\n",
    "<font face=\"vazir\" size=3>\n",
    "    این فرمول در حل مسئله هیچ تاثیری ندارد، بلکه فقط برای درک بهتر آورده شده‌ است. \n",
    "</font>\n",
    "</p>"
   ]
  },
  {
   "cell_type": "code",
   "execution_count": 1,
   "id": "6411a592",
   "metadata": {},
   "outputs": [],
   "source": [
    "import numpy as np\n",
    "import pandas as pd"
   ]
  },
  {
   "cell_type": "code",
   "execution_count": 2,
   "id": "0dc3abd5",
   "metadata": {},
   "outputs": [],
   "source": [
    "# TODO: read csv file in df\n",
    "df = pd.read_csv(\"./migration_rate.csv\")"
   ]
  },
  {
   "attachments": {},
   "cell_type": "markdown",
   "id": "883c753f",
   "metadata": {},
   "source": [
    "\n",
    "<p dir=rtl style=\"direction: rtl;text-align: right;line-height:200%;font-family:vazir;font-size:medium\">\n",
    "<font face=\"vazir\" size=3>\n",
    "</font>\n",
    "</p>\n",
    "\n"
   ]
  },
  {
   "attachments": {},
   "cell_type": "markdown",
   "id": "6ef94595",
   "metadata": {},
   "source": [
    "<h2 align=right style=\"line-height:200%;font-family:vazir;color:#0099cc\">\n",
    "<font face=\"vazir\" color=\"#0099cc\">\n",
    "بخش اول : پیش‌پردازش\n",
    "</font>\n",
    "</h2>\n",
    "\n",
    "<div dir=rtl style=\"direction: rtl;text-align: justify;line-height:200%;font-family:vazir;font-size:medium\">\n",
    "<font face=\"vazir\" size=3>\n",
    "    پیش از تحلیل باید مقادیر گم‌شده در مجموعه‌داده را مدیریت کنید و برخی از اطلاعات را نیز از بین ببرید.\n",
    "<br>\n",
    "در گام پیش‌پردازش به ترتیب مراحل زیر را انجام دهید.\n",
    "<ul>\n",
    "    <li>\n",
    "کشورهایی که نرخ مهاجرت آن‌ها در هر ۷ سال گم‌شده است (برای هیچ سالی نرخ مهاجرت آن‌ها ثبت نشده) را برای همیشه از مجموعه‌داده حذف کنید.\n",
    "    </li>\n",
    "    <li>\n",
    "مقادیر گم‌شده کشور‌هایی که اطلاعات برخی از سال‌ها را از دست داده‌اند را با میانگین آن کشور پر کنید. به‌عنوان مثال اگر نرخ مهاجرت کشوری از سال ۱۹۹۵ تا ۲۰۲۰ به ترتیب \n",
    "<code>5.2-</code>\n",
    "، \n",
    "<code>3.4-</code>\n",
    "، \n",
    "<code>0.7-</code>\n",
    "، \n",
    "<code>0.9</code>\n",
    "، \n",
    "<code>1.3</code>\n",
    " و \n",
    " <code>2.5</code>\n",
    "  باشد، نرخ مهاجرت سال ۱۹۹۰ که گم‌شده بود را باید با عدد \n",
    "<code>0.76-</code>\n",
    "   پر کنید.\n",
    "    </li>\n",
    "</ul>\n",
    "    </font>\n",
    "</div>\n",
    "\n"
   ]
  },
  {
   "attachments": {},
   "cell_type": "markdown",
   "id": "e781cde6",
   "metadata": {},
   "source": [
    "<h3 align=right style=\"line-height:200%;font-family:vazir;color:#0099cc\">\n",
    "<font face=\"vazir\" color=\"#0099cc\">\n",
    "گام اول پیش‌پردازش\n",
    "</font>\n",
    "</h3>\n",
    "\n",
    "<div dir=rtl style=\"direction: rtl;text-align: justify;line-height:200%;font-family:vazir;font-size:medium\">\n",
    "<font face=\"vazir\" size=3>\n",
    "کشورهایی که نرخ مهاجرت آن‌ها در هر ۷ سال گم‌شده است (برای هیچ سالی نرخ مهاجرت آن‌ها ثبت نشده) را برای همیشه از مجموعه‌داده حذف کنید.\n",
    "</font>\n",
    "</div>\n",
    "\n"
   ]
  },
  {
   "cell_type": "code",
   "execution_count": 3,
   "id": "35a42ee5",
   "metadata": {},
   "outputs": [],
   "source": [
    "df.dropna(thresh=2,inplace=True)"
   ]
  },
  {
   "attachments": {},
   "cell_type": "markdown",
   "id": "ecd9f826",
   "metadata": {},
   "source": [
    "<h3 align=right style=\"line-height:200%;font-family:vazir;color:#0099cc\">\n",
    "<font face=\"vazir\" color=\"#0099cc\">\n",
    "گام دوم پیش‌پردازش\n",
    "</font>\n",
    "</h3>\n",
    "\n",
    "<div dir=rtl style=\"direction: rtl;text-align: justify;line-height:200%;font-family:vazir;font-size:medium\">\n",
    "<font face=\"vazir\" size=3>\n",
    "مقادیر گم‌شده کشور‌هایی که اطلاعات برخی از سال‌ها را از دست داده‌اند را با میانگین آن کشور پر کنید. به‌عنوان مثال اگر نرخ مهاجرت کشوری از سال ۱۹۹۵ تا ۲۰۲۰ به ترتیب 5.2-، 3.4-، 0.7-، 0.9، 1.3 و 2.5 باشد، نرخ مهاجرت سال ۱۹۹۰ که گم‌شده بود را باید با عدد 0.76- پر کنید.\n",
    "</font>\n",
    "</div>\n"
   ]
  },
  {
   "cell_type": "code",
   "execution_count": 4,
   "id": "3d1d5777",
   "metadata": {},
   "outputs": [],
   "source": [
    "#df.fillna(df.iloc[:,1:].mean(), inplace=True)\n",
    "#mean_val = df.drop(['Country'],axis=1).apply(lambda x: x.mean(), axis=1)\n",
    "#df.iloc[:,1:].fillna(mean_val[:], inplace=True)\n",
    "#df.T.fillna(df.mean(axis=1)).T\n",
    "#df.fillna(mean_val[:], inplace=True)\n",
    "mean_val = df.drop(['Country'],axis=1).apply(lambda x: x.T.fillna(x.mean()).T, axis=1)\n",
    "df = pd.concat([df['Country'],mean_val],axis=1)"
   ]
  },
  {
   "attachments": {},
   "cell_type": "markdown",
   "id": "8818886d",
   "metadata": {},
   "source": [
    "<div dir=rtl id=\"start\" style=\"direction:rtl;text-align: justify;line-height:200%;\">\n",
    "\t<font face=\"vazir\" size=3>\n",
    "        بعد از اتمام هر دو مرحله‌ی پیش‌پردازش، تعداد مقادیر گم‌شده همه‌ی ستون‌ها باید 0 باشد.\n",
    "    </font>\n",
    "</div>"
   ]
  },
  {
   "cell_type": "code",
   "execution_count": 5,
   "id": "33d43dac",
   "metadata": {},
   "outputs": [
    {
     "data": {
      "text/plain": [
       "Country    0\n",
       "1990       0\n",
       "1995       0\n",
       "2000       0\n",
       "2005       0\n",
       "2010       0\n",
       "2015       0\n",
       "2020       0\n",
       "dtype: int64"
      ]
     },
     "execution_count": 5,
     "metadata": {},
     "output_type": "execute_result"
    }
   ],
   "source": [
    "df.isnull().sum()"
   ]
  },
  {
   "attachments": {},
   "cell_type": "markdown",
   "id": "0a16a62e",
   "metadata": {},
   "source": [
    "<div dir=rtl id=\"start\" style=\"direction:rtl;text-align: justify;line-height:200%;\">\n",
    "\t<font face=\"vazir\" size=3>\n",
    "        <span color=”purple”><b>توجه: </b></span> \n",
    "        متغیر <code>df</code> مورد داوری قرار خواهد گرفت، بنابراین به‌غیر از دو گام پیش‌پردازشی، هیچ‌گونه تغییری روی آن اعمال نکنید!\n",
    "    </font>\n",
    "</div>"
   ]
  },
  {
   "attachments": {},
   "cell_type": "markdown",
   "id": "7dc2ab30",
   "metadata": {},
   "source": [
    "<h2 align=right style=\"line-height:200%;font-family:vazir;color:#0099cc\">\n",
    "<font face=\"vazir\" color=\"#0099cc\">\n",
    "بخش دوم : تحلیل\n",
    "</font>\n",
    "</h2>\n",
    "\n",
    "<div dir=rtl style=\"direction: rtl;text-align: justify;line-height:200%;font-family:vazir;font-size:medium\">\n",
    "<font face=\"vazir\" size=3>\n",
    "پس از اینکه دو مرحله‌ی بالا را انجام دادید به سوالات زیر پاسخ دهید.\n",
    "    <br>\n",
    "    قصد داریم با پاسخ به سوالات زیر، شهود دقیقی نسبت به وضع مهاجرت در برخی کشور‌ها به‌دست آوریم.\n",
    "</font>\n",
    "</div>\n",
    "\n"
   ]
  },
  {
   "attachments": {},
   "cell_type": "markdown",
   "id": "89d472c5",
   "metadata": {},
   "source": [
    "<h3 align=right style=\"line-height:200%;font-family:vazir;color:#0099cc\">\n",
    "<font face=\"vazir\" color=\"#0099cc\">\n",
    "سوال اول\n",
    "</font>\n",
    "</h3>\n",
    "\n",
    "<div dir=rtl style=\"direction: rtl;text-align: justify;line-height:200%;font-family:vazir;font-size:medium\">\n",
    "<font face=\"vazir\" size=3>\n",
    "    در سال ۲۰۲۰، <b>اسم</b> سه کشوری که بیشترین نرخ پذیرش مهاجر را دارند پیدا کنید. جواب خود را درون لیست <code>top_countries</code> ذخیره کنید. عنصر اول، دوم و سوم این لیست به ترتیب کشورهایی هستند که در رتبه‌ی اول تا سوم جذب مهاجر قرار می‌گیرند.\n",
    "</font>\n",
    "</div>\n",
    "\n"
   ]
  },
  {
   "cell_type": "code",
   "execution_count": 6,
   "id": "c210f7d1",
   "metadata": {},
   "outputs": [
    {
     "name": "stdout",
     "output_type": "stream",
     "text": [
      "['Bahrain', 'Maldives', 'Oman']\n"
     ]
    }
   ],
   "source": [
    "# TODO: find the top 3 countries\n",
    "top_countries = list(df.groupby(\"2020\")[\"Country\"].max().sort_index(ascending=False).iloc[:3,])\n",
    "print(top_countries)"
   ]
  },
  {
   "attachments": {},
   "cell_type": "markdown",
   "id": "1310dcec",
   "metadata": {},
   "source": [
    "<h3 align=right style=\"line-height:200%;font-family:vazir;color:#0099cc\">\n",
    "<font face=\"vazir\" color=\"#0099cc\">\n",
    "سوال دوم\n",
    "</font>\n",
    "</h3>\n",
    "\n",
    "<div dir=rtl style=\"direction: rtl;text-align: justify;line-height:200%;font-family:vazir;font-size:medium\">\n",
    "<font face=\"vazir\" size=3>\n",
    "    میانگین نرخ مهاجرت کشور ایران در این بازه‌ی ۳۰ ساله را محاسبه کرده و جواب را در متغیر <code>iran_mean</code> بنویسید. جنس این متغیر باید <code>numpy.float64</code> باشد.\n",
    "    <br>\n",
    "    اسم کشور ایران در این مجموعه‌داده به صورت <code>Iran (Islamic Republic of)</code> آمده‌ است.\n",
    "</font>\n",
    "</div>\n",
    "\n"
   ]
  },
  {
   "cell_type": "code",
   "execution_count": 7,
   "id": "56df3669",
   "metadata": {},
   "outputs": [
    {
     "name": "stdout",
     "output_type": "stream",
     "text": [
      "-0.22857142857142865\n"
     ]
    },
    {
     "name": "stderr",
     "output_type": "stream",
     "text": [
      "C:\\Users\\Saleh\\AppData\\Local\\Temp\\ipykernel_12968\\2745423213.py:2: FutureWarning: Calling float on a single element Series is deprecated and will raise a TypeError in the future. Use float(ser.iloc[0]) instead\n",
      "  iran_mean = np.float64(df[df[\"Country\"]==\"Iran (Islamic Republic of)\"].iloc[:,1:].mean(axis=1))\n"
     ]
    }
   ],
   "source": [
    "# TODO: find iran_mean\n",
    "iran_mean = np.float64(df[df[\"Country\"]==\"Iran (Islamic Republic of)\"].iloc[:,1:].mean(axis=1))\n",
    "print(iran_mean)"
   ]
  },
  {
   "attachments": {},
   "cell_type": "markdown",
   "id": "b4572529",
   "metadata": {},
   "source": [
    "<h3 align=right style=\"line-height:200%;font-family:vazir;color:#0099cc\">\n",
    "<font face=\"vazir\" color=\"#0099cc\">\n",
    "سوال سوم\n",
    "</font>\n",
    "</h3>\n",
    "\n",
    "<div dir=rtl style=\"direction: rtl;text-align: justify;line-height:200%;font-family:vazir;font-size:medium\">\n",
    "<font face=\"vazir\" size=3>\n",
    "    <b>اسم</b> کشوری که در این بازه‌ی ۳۰ ساله، بیشترین رشد را داشته است در متغیر <code>highest_growth</code> بنویسید. این متغیر از نوع <i>str</i> است. منظور از رشد، تفاضل نرخ سال ۲۰۲۰ از سال ۱۹۹۰ است.\n",
    "\n",
    "</font>\n",
    "</div>\n",
    "\n"
   ]
  },
  {
   "cell_type": "code",
   "execution_count": 8,
   "id": "fcbf7a10",
   "metadata": {},
   "outputs": [
    {
     "name": "stdout",
     "output_type": "stream",
     "text": [
      "Liberia\n"
     ]
    }
   ],
   "source": [
    "# TODO: find highest_growth\n",
    "tempDf=df.copy()\n",
    "tempDf[\"growth\"]=df[\"2020\"]-df[\"1990\"]\n",
    "highest_growth = tempDf.groupby(\"Country\")[\"growth\"].agg([\"max\"]).sort_values(by=\"max\" ,ascending=False).index[0]\n",
    "print(highest_growth)"
   ]
  },
  {
   "attachments": {},
   "cell_type": "markdown",
   "id": "eeca036a",
   "metadata": {},
   "source": [
    "<h2 align=right style=\"line-height:200%;font-family:vazir;color:#0099cc\">\n",
    "<font face=\"vazir\" color=\"#0099cc\">\n",
    "<b>سلول جواب‌ساز</b>\n",
    "</font>\n",
    "</h2>\n",
    "\n",
    "\n",
    "<p dir=rtl style=\"direction: rtl; text-align: justify; line-height:200%; font-family:vazir; font-size:medium\">\n",
    "<font face=\"vazir\" size=3>\n",
    "    برای ساخته‌شدن فایل <code>result.zip</code> سلول زیر را اجرا کنید. توجه داشته باشید که پیش از اجرای سلول زیر تغییرات اعمال شده در نت‌بوک را ذخیره کرده باشید (<code>ctrl+s</code>) تا در صورت نیاز به پشتیبانی امکان بررسی کد شما وجود داشته باشد.\n",
    "</font>\n",
    "</p>"
   ]
  },
  {
   "cell_type": "code",
   "execution_count": 9,
   "id": "b10ef49e",
   "metadata": {},
   "outputs": [
    {
     "name": "stdout",
     "output_type": "stream",
     "text": [
      "File Paths:\n",
      "['df.csv', 'top_countries', 'iran_mean', 'highest_growth', 'to_stay_or_not_to_stay.ipynb']\n"
     ]
    }
   ],
   "source": [
    "# DO NOT CHANGE THIS CELL !\n",
    "import zipfile\n",
    "import joblib\n",
    "\n",
    "df.to_csv('./df.csv', index=False)\n",
    "joblib.dump(top_countries,\"top_countries\")\n",
    "joblib.dump(iran_mean,\"iran_mean\")\n",
    "joblib.dump(highest_growth, \"highest_growth\")\n",
    "\n",
    "\n",
    "def compress(file_names):\n",
    "    print(\"File Paths:\")\n",
    "    print(file_names)\n",
    "    # Select the compression mode ZIP_DEFLATED for compression\n",
    "    # or zipfile.ZIP_STORED to just store the file\n",
    "    compression = zipfile.ZIP_DEFLATED\n",
    "    # create the zip file first parameter path/name, second mode\n",
    "    with zipfile.ZipFile(\"result.zip\", mode=\"w\") as zf:\n",
    "        for file_name in file_names:\n",
    "            # Add file to the zip file\n",
    "            # first parameter file to zip, second filename in zip\n",
    "            zf.write('./' + file_name, file_name, compress_type=compression)\n",
    "\n",
    "\n",
    "file_names = [\"df.csv\", \"top_countries\", \"iran_mean\", \"highest_growth\", \"to_stay_or_not_to_stay.ipynb\"]\n",
    "compress(file_names)"
   ]
  }
 ],
 "metadata": {
  "kernelspec": {
   "display_name": "Python 3",
   "language": "python",
   "name": "python3"
  },
  "language_info": {
   "codemirror_mode": {
    "name": "ipython",
    "version": 3
   },
   "file_extension": ".py",
   "mimetype": "text/x-python",
   "name": "python",
   "nbconvert_exporter": "python",
   "pygments_lexer": "ipython3",
   "version": "3.8.1"
  },
  "vscode": {
   "interpreter": {
    "hash": "31f2aee4e71d21fbe5cf8b01ff0e069b9275f58929596ceb00d14d90e3e16cd6"
   }
  }
 },
 "nbformat": 4,
 "nbformat_minor": 5
}
