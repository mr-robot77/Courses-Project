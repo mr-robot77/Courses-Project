{
 "cells": [
  {
   "attachments": {},
   "cell_type": "markdown",
   "metadata": {},
   "source": [
    "<div align=center style=\"line-height:200%;font-family:vazir;font-size:medium;color:#0099cc\">\n",
    "<h1>\n",
    "تشخیص داده‌های پرت</h1>\n",
    "</p>\n",
    "</div>\n",
    "\n",
    "\n",
    "\n"
   ]
  },
  {
   "cell_type": "code",
   "execution_count": 1,
   "metadata": {},
   "outputs": [],
   "source": [
    "import numpy as np\n",
    "import pandas as pd"
   ]
  },
  {
   "cell_type": "code",
   "execution_count": 2,
   "metadata": {},
   "outputs": [
    {
     "data": {
      "text/plain": [
       "array([   2,   -8,   -7,    1,    3,   -1,   -4,    1,   -6,    4, -100,\n",
       "         -3,   -5,    1,    0,   -8,   -4,   -6,    6,   -7,    6,    1,\n",
       "          6,    5,   -7,    0,    1,   50,   -3,    6])"
      ]
     },
     "execution_count": 2,
     "metadata": {},
     "output_type": "execute_result"
    }
   ],
   "source": [
    "seri = pd.Series(np.random.randint(-10,10, size = 30))\n",
    "seri[10] = -100\n",
    "seri[27] = 50\n",
    "np.array(seri)"
   ]
  },
  {
   "cell_type": "code",
   "execution_count": 3,
   "metadata": {},
   "outputs": [
    {
     "name": "stdout",
     "output_type": "stream",
     "text": [
      "first quartile = -5.75\n",
      "third quartile = 2.75\n"
     ]
    }
   ],
   "source": [
    "Q1 = seri.quantile(0.25)\n",
    "Q3 = seri.quantile(0.75)\n",
    "print(f\"first quartile = {Q1}\")\n",
    "print(f\"third quartile = {Q3}\")"
   ]
  },
  {
   "cell_type": "code",
   "execution_count": 4,
   "metadata": {},
   "outputs": [
    {
     "data": {
      "text/plain": [
       "array([ 2, -8, -7,  1,  3, -1, -4,  1, -6,  4, -3, -5,  1,  0, -8, -4, -6,\n",
       "        6, -7,  6,  1,  6,  5, -7,  0,  1, -3,  6])"
      ]
     },
     "execution_count": 4,
     "metadata": {},
     "output_type": "execute_result"
    }
   ],
   "source": [
    "IQR = Q3 - Q1\n",
    "seri.drop(seri[(seri.values < Q1-1.5*IQR) | (seri.values > Q3+1.5*IQR)].index , inplace = True)\n",
    "np.array(seri)"
   ]
  },
  {
   "cell_type": "code",
   "execution_count": null,
   "metadata": {},
   "outputs": [],
   "source": []
  }
 ],
 "metadata": {
  "kernelspec": {
   "display_name": "qenv",
   "language": "python",
   "name": "python3"
  },
  "language_info": {
   "codemirror_mode": {
    "name": "ipython",
    "version": 3
   },
   "file_extension": ".py",
   "mimetype": "text/x-python",
   "name": "python",
   "nbconvert_exporter": "python",
   "pygments_lexer": "ipython3",
   "version": "3.9.13"
  },
  "orig_nbformat": 4
 },
 "nbformat": 4,
 "nbformat_minor": 2
}
