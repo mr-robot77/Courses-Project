{
 "cells": [
  {
   "cell_type": "markdown",
   "id": "a421c817",
   "metadata": {},
   "source": [
    "<h1 align=center style=\"line-height:200%;font-family:vazir;color:#0099cc\">\n",
    "<font face=\"vazir\" color=\"#0099cc\">\n",
    "    توابع عمومی\n",
    "</font>\n",
    "</h1>"
   ]
  },
  {
   "cell_type": "code",
   "execution_count": 1,
   "id": "a4b1ce84",
   "metadata": {},
   "outputs": [],
   "source": [
    "import numpy as np\n",
    "np.random.seed(1400)"
   ]
  },
  {
   "cell_type": "code",
   "execution_count": 2,
   "id": "7e89ed02",
   "metadata": {},
   "outputs": [
    {
     "name": "stdout",
     "output_type": "stream",
     "text": [
      "a = [5 1 7 8]\n",
      "b = [5 8 1 8]\n",
      "[10  9  8 16]\n"
     ]
    }
   ],
   "source": [
    "a = np.random.randint(0, 10, 4) # آرایه‌ای شامل 4 عضو تصادفی در بازه 0 تا 9 \n",
    "b = np.random.randint(0, 10, 4) # آرایه‌ای شامل 4 عضو تصادفی در بازه 0 تا 9 \n",
    "print('a =', a)\n",
    "print('b =', b)\n",
    "\n",
    "def cal_sum(a,b) :\n",
    "    output = np.empty(len(a), dtype='int_')\n",
    "    for i in range(len(a)):\n",
    "        output[i] = a[i] + b[i]\n",
    "    return output\n",
    "\n",
    "print(cal_sum(a, b))"
   ]
  },
  {
   "cell_type": "code",
   "execution_count": 3,
   "id": "d9a4b298",
   "metadata": {},
   "outputs": [
    {
     "name": "stdout",
     "output_type": "stream",
     "text": [
      "5.25 s ± 164 ms per loop (mean ± std. dev. of 7 runs, 1 loop each)\n"
     ]
    }
   ],
   "source": [
    "big_size = 10*1000*1000\n",
    "a = np.random.randint(0, 10, big_size) \n",
    "b = np.random.randint(0, 10, big_size) \n",
    "%timeit cal_sum(a, b)"
   ]
  },
  {
   "cell_type": "code",
   "execution_count": 4,
   "id": "15104f11",
   "metadata": {},
   "outputs": [
    {
     "name": "stdout",
     "output_type": "stream",
     "text": [
      "71.8 ms ± 22.3 ms per loop (mean ± std. dev. of 7 runs, 10 loops each)\n"
     ]
    }
   ],
   "source": [
    "%timeit np.add(a, b) "
   ]
  },
  {
   "cell_type": "code",
   "execution_count": 5,
   "id": "7d69065f",
   "metadata": {},
   "outputs": [
    {
     "name": "stdout",
     "output_type": "stream",
     "text": [
      "[9 5 9 8]\n",
      "[9 5 9 8]\n"
     ]
    }
   ],
   "source": [
    "a = np.random.randint(0, 10, 4) \n",
    "b = np.random.randint(0, 10, 4) \n",
    "print(np.add(a, b)) # قالب قبلی\n",
    "print(a + b) # استفاده از عملگر معادل"
   ]
  },
  {
   "cell_type": "code",
   "execution_count": 6,
   "id": "06aab359",
   "metadata": {},
   "outputs": [
    {
     "name": "stdout",
     "output_type": "stream",
     "text": [
      "a + b = [-2 11  3  8]\n",
      "a + b = [-2 11  3  8]\n"
     ]
    }
   ],
   "source": [
    "a = np.array([0, 1, 2, 3])\n",
    "b = np.array([-2, 10, 1, 5])\n",
    "print('a + b =', np.add(a, b)) \n",
    "print('a + b =', a + b) # است a + b معادل np.add(a, b)"
   ]
  },
  {
   "cell_type": "code",
   "execution_count": 7,
   "id": "f4f647cd",
   "metadata": {},
   "outputs": [
    {
     "name": "stdout",
     "output_type": "stream",
     "text": [
      "a - b = [ 2 -9  1 -2]\n",
      "a - b = [ 2 -9  1 -2]\n"
     ]
    }
   ],
   "source": [
    "print('a - b =', np.subtract(a, b)) \n",
    "print('a - b =', a - b) # است a - b معادل np.subtract(a, b)"
   ]
  },
  {
   "cell_type": "code",
   "execution_count": 8,
   "id": "a4335035",
   "metadata": {},
   "outputs": [
    {
     "name": "stdout",
     "output_type": "stream",
     "text": [
      "a * b = [ 0 10  2 15]\n",
      "a * b = [ 0 10  2 15]\n"
     ]
    }
   ],
   "source": [
    "print('a * b =', np.multiply(a, b)) \n",
    "print('a * b =', a * b) # است a * b معادل np.multiply(a, b)"
   ]
  },
  {
   "cell_type": "code",
   "execution_count": 9,
   "id": "353017c4",
   "metadata": {},
   "outputs": [
    {
     "name": "stdout",
     "output_type": "stream",
     "text": [
      "a / b = [-0.   0.1  2.   0.6]\n",
      "a / b = [-0.   0.1  2.   0.6]\n"
     ]
    }
   ],
   "source": [
    "print('a / b =', np.divide(a, b)) \n",
    "print('a / b =', a / b) # است a / b معادل np.divide(a, b)"
   ]
  },
  {
   "cell_type": "code",
   "execution_count": 10,
   "id": "5cd9e992",
   "metadata": {},
   "outputs": [
    {
     "name": "stdout",
     "output_type": "stream",
     "text": [
      "a = [4 8 3 6 6]\n",
      "b = [-8  6 -7  6  1]\n"
     ]
    }
   ],
   "source": [
    "a = np.random.randint(0, 11, 5) # آرایه‌ای شامل 5 عدد تصادفی در بازه 0 تا 10\n",
    "b = np.random.randint(-10, 11, 5) # آرایه‌ای شامل 5 عدد تصادفی در بازه 10- تا 10\n",
    "print('a =', a)\n",
    "print('b =', b)"
   ]
  },
  {
   "cell_type": "code",
   "execution_count": 11,
   "id": "01a8fe4d",
   "metadata": {},
   "outputs": [
    {
     "name": "stdout",
     "output_type": "stream",
     "text": [
      "absolute values of b = [8 6 7 6 1]\n"
     ]
    }
   ],
   "source": [
    "print('absolute values of b =', np.abs(b)) "
   ]
  },
  {
   "cell_type": "code",
   "execution_count": 12,
   "id": "cd882a2e",
   "metadata": {},
   "outputs": [
    {
     "name": "stdout",
     "output_type": "stream",
     "text": [
      "square values of a = [16 64  9 36 36]\n"
     ]
    }
   ],
   "source": [
    "print('square values of a =', np.square(a) ) "
   ]
  },
  {
   "cell_type": "code",
   "execution_count": 13,
   "id": "6157b4d9",
   "metadata": {},
   "outputs": [
    {
     "name": "stdout",
     "output_type": "stream",
     "text": [
      "a =  [ 1  2 -3  4 -5]\n",
      "isnan results for a = [False False False False False]\n",
      "sqrt(a) =  [1.         1.41421356        nan 2.                nan]\n",
      "isnan resultes for sqrt(a) = [False False  True False  True]\n"
     ]
    }
   ],
   "source": [
    "np.seterr(invalid=\"ignore\") # خطای ناشی از عملیات غیرمجاز را نادیده می‌گیرد\n",
    "a = np.array([1 , 2 , -3 , 4, -5])\n",
    "print('a = ', a)\n",
    "print('isnan results for a =', np.isnan(a))\n",
    "print('sqrt(a) = ', np.sqrt(a))\n",
    "print('isnan resultes for sqrt(a) =', np.isnan(np.sqrt(a)))"
   ]
  }
 ],
 "metadata": {
  "kernelspec": {
   "display_name": "qenv",
   "language": "python",
   "name": "qenv"
  },
  "language_info": {
   "codemirror_mode": {
    "name": "ipython",
    "version": 3
   },
   "file_extension": ".py",
   "mimetype": "text/x-python",
   "name": "python",
   "nbconvert_exporter": "python",
   "pygments_lexer": "ipython3",
   "version": "3.8.1"
  }
 },
 "nbformat": 4,
 "nbformat_minor": 5
}
