{
 "cells": [
  {
   "cell_type": "markdown",
   "id": "6a3609dc",
   "metadata": {},
   "source": [
    "<div align=center style=\"line-height:200%;font-family:vazir;font-size:medium;color:#0099cc\">\n",
    "<h1>\n",
    " نمایه‌سازی با آرایه‌ها \n",
    "</h1>\n",
    "</p>\n",
    "</div>\n",
    "\n",
    "\n",
    "\n"
   ]
  },
  {
   "cell_type": "code",
   "execution_count": 1,
   "id": "d0e3d676",
   "metadata": {},
   "outputs": [],
   "source": [
    "import numpy as np"
   ]
  },
  {
   "cell_type": "code",
   "execution_count": 2,
   "id": "6737658c",
   "metadata": {},
   "outputs": [],
   "source": [
    "t = np.array([[10, 12, 11, 17, 15, 11, 14],\n",
    "              [13, 15, 18, 21, 19, 18, 17],\n",
    "              [18, 20, 21, 19, 23, 24, 22],\n",
    "              [20, 23, 19, 21, 25, 22, 21]])"
   ]
  },
  {
   "cell_type": "code",
   "execution_count": 3,
   "id": "d37d95b1",
   "metadata": {},
   "outputs": [
    {
     "data": {
      "text/plain": [
       "array([17, 15, 15, 18, 19, 18, 17, 18, 20, 19, 20, 19])"
      ]
     },
     "execution_count": 3,
     "metadata": {},
     "output_type": "execute_result"
    }
   ],
   "source": [
    "t[(t >= 15) & (t <= 20)]"
   ]
  },
  {
   "cell_type": "code",
   "execution_count": 4,
   "id": "449cf823",
   "metadata": {},
   "outputs": [
    {
     "name": "stdout",
     "output_type": "stream",
     "text": [
      "میانگین دمای هوا در روزهای گرم‌تر از ۲۰ درجه: 22.3\n",
      "میانه دمای هوا در روزهای سردتر از ۲۰ و گرم‌تر از ۱۵ درجه: 18.0\n"
     ]
    }
   ],
   "source": [
    "print('میانگین دمای هوا در روزهای گرم‌تر از ۲۰ درجه:', t[t > 20].mean())\n",
    "print('میانه دمای هوا در روزهای سردتر از ۲۰ و گرم‌تر از ۱۵ درجه:', np.median(t[(t > 15) & (t < 20)]))"
   ]
  },
  {
   "cell_type": "code",
   "execution_count": 5,
   "id": "14d3e049",
   "metadata": {},
   "outputs": [
    {
     "name": "stdout",
     "output_type": "stream",
     "text": [
      "میانه دمای روزهای آخرِ هفته کل ماه: 19.5\n",
      "میانه دمای دو هفته نخست ماه: 15.0\n",
      "میانگین دمای روزهای آخرِ هفته در دو هفته پایانی ماه: 22.25\n"
     ]
    }
   ],
   "source": [
    "calendar = np.arange(4*7).reshape(4, 7)\n",
    "holidays = (calendar%7 >= 5) # آرایه بولی متناظر روزهای آخر هفته (پنج‌شنبه و جمعه)\n",
    "first_mid = (calendar < 2*7) # آرایه بولی متناظر روزهای دو هفته اول اردیبهشت\n",
    "print('میانه دمای روزهای آخرِ هفته کل ماه:', np.median(t[holidays]))\n",
    "print('میانه دمای دو هفته نخست ماه:', np.median(t[first_mid]))\n",
    "print('میانگین دمای روزهای آخرِ هفته در دو هفته پایانی ماه:', np.mean(t[~first_mid & holidays]))"
   ]
  },
  {
   "cell_type": "code",
   "execution_count": 6,
   "id": "f2ce1a64",
   "metadata": {},
   "outputs": [
    {
     "data": {
      "text/plain": [
       "array([ 4,  8, 32])"
      ]
     },
     "execution_count": 6,
     "metadata": {},
     "output_type": "execute_result"
    }
   ],
   "source": [
    "a = np.array([1, 2, 4, 8, 16, 32])\n",
    "ind = [2, 3, 5]\n",
    "a[ind]"
   ]
  },
  {
   "cell_type": "code",
   "execution_count": 7,
   "id": "29ca97b6",
   "metadata": {},
   "outputs": [
    {
     "data": {
      "text/plain": [
       "array([[ 4,  8],\n",
       "       [16,  2]])"
      ]
     },
     "execution_count": 7,
     "metadata": {},
     "output_type": "execute_result"
    }
   ],
   "source": [
    "ind = np.array([[2, 3],\n",
    "               [4, 1]])\n",
    "a[ind]"
   ]
  },
  {
   "cell_type": "code",
   "execution_count": 8,
   "id": "7899b139",
   "metadata": {},
   "outputs": [
    {
     "name": "stdout",
     "output_type": "stream",
     "text": [
      "[[ 0  1  2]\n",
      " [ 3  4  5]\n",
      " [ 6  7  8]\n",
      " [ 9 10 11]]\n"
     ]
    },
    {
     "data": {
      "text/plain": [
       "array([ 0,  8, 10,  6])"
      ]
     },
     "execution_count": 8,
     "metadata": {},
     "output_type": "execute_result"
    }
   ],
   "source": [
    "a = np.arange(12).reshape(4, 3)\n",
    "print(a)\n",
    "row = np.array([0, 2, 3, 2])\n",
    "col = np.array([0, 2, 1, 0])\n",
    "a[row, col]"
   ]
  },
  {
   "cell_type": "code",
   "execution_count": 9,
   "id": "4477bc68",
   "metadata": {},
   "outputs": [
    {
     "data": {
      "text/plain": [
       "array([[ 0,  2,  1,  0],\n",
       "       [ 6,  8,  7,  6],\n",
       "       [ 9, 11, 10,  9],\n",
       "       [ 6,  8,  7,  6]])"
      ]
     },
     "execution_count": 9,
     "metadata": {},
     "output_type": "execute_result"
    }
   ],
   "source": [
    "a[row[:, np.newaxis], col]"
   ]
  },
  {
   "cell_type": "code",
   "execution_count": 10,
   "id": "ad899d30",
   "metadata": {},
   "outputs": [
    {
     "name": "stdout",
     "output_type": "stream",
     "text": [
      "[20  1  3 40  5]\n"
     ]
    }
   ],
   "source": [
    "a = np.array([2, 1, 3, 4, 5])\n",
    "a[a%2 == 0] *= 10\n",
    "print(a)"
   ]
  },
  {
   "cell_type": "code",
   "execution_count": 11,
   "id": "48cf16df",
   "metadata": {},
   "outputs": [
    {
     "name": "stdout",
     "output_type": "stream",
     "text": [
      "[20 10 30 40 50]\n"
     ]
    }
   ],
   "source": [
    "a[[1, 1, 2, 4]] *= 10\n",
    "print(a)"
   ]
  },
  {
   "cell_type": "code",
   "execution_count": 12,
   "id": "7b870978",
   "metadata": {},
   "outputs": [
    {
     "name": "stdout",
     "output_type": "stream",
     "text": [
      "[35 20 35 40 50]\n"
     ]
    }
   ],
   "source": [
    "np.add.at(a, [0, 0, 0, 1, 1, 2], 5)\n",
    "print(a)"
   ]
  }
 ],
 "metadata": {
  "kernelspec": {
   "display_name": "qenv",
   "language": "python",
   "name": "qenv"
  },
  "language_info": {
   "codemirror_mode": {
    "name": "ipython",
    "version": 3
   },
   "file_extension": ".py",
   "mimetype": "text/x-python",
   "name": "python",
   "nbconvert_exporter": "python",
   "pygments_lexer": "ipython3",
   "version": "3.8.1"
  }
 },
 "nbformat": 4,
 "nbformat_minor": 5
}
