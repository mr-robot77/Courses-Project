{
 "cells": [
  {
   "cell_type": "markdown",
   "id": "af208b81",
   "metadata": {},
   "source": [
    "<h1 align=center style=\"line-height:200%;font-family:vazir;color:#0099cc\">\n",
    "<font face=\"vazir\" color=\"#0099cc\">\n",
    "مقایسه و منطق بولی\n",
    "</font>\n",
    "</h1>\n"
   ]
  },
  {
   "cell_type": "code",
   "execution_count": 1,
   "id": "7a28e5fc",
   "metadata": {},
   "outputs": [],
   "source": [
    "import numpy as np"
   ]
  },
  {
   "cell_type": "code",
   "execution_count": 2,
   "id": "965cb832",
   "metadata": {},
   "outputs": [
    {
     "data": {
      "text/plain": [
       "array([ True, False,  True,  True, False,  True])"
      ]
     },
     "execution_count": 2,
     "metadata": {},
     "output_type": "execute_result"
    }
   ],
   "source": [
    "a = np.array([2, 13, -5, -3, 19, -17])\n",
    "a < 7 # سمت راست مقایسه به شکل یک آرایه (,6) با مقادیر 7 در می‌آید"
   ]
  },
  {
   "cell_type": "code",
   "execution_count": 3,
   "id": "de3e8539",
   "metadata": {},
   "outputs": [
    {
     "data": {
      "text/plain": [
       "array([ True,  True, False, False,  True, False])"
      ]
     },
     "execution_count": 3,
     "metadata": {},
     "output_type": "execute_result"
    }
   ],
   "source": [
    "a == np.sqrt(a ** 2)  # دو سمت مقایسه می‌توانند هم‌نوع نباشند اما مقایسه‌پذیر باشند"
   ]
  },
  {
   "cell_type": "code",
   "execution_count": 4,
   "id": "282c01b9",
   "metadata": {},
   "outputs": [],
   "source": [
    "t = np.array([[10, 12, 11, 17, 15, 11, 14],\n",
    "             [13, 15, 18, 21, 19, 18, 17],\n",
    "             [18, 20, 21, 19, 23, 24, 22],\n",
    "             [20, 23, 19, 21, 25, 22, 21]])"
   ]
  },
  {
   "cell_type": "code",
   "execution_count": 5,
   "id": "c43deddb",
   "metadata": {},
   "outputs": [
    {
     "data": {
      "text/plain": [
       "array([[False, False, False, False, False, False, False],\n",
       "       [False, False, False,  True, False, False, False],\n",
       "       [False, False,  True, False,  True,  True,  True],\n",
       "       [False,  True, False,  True,  True,  True,  True]])"
      ]
     },
     "execution_count": 5,
     "metadata": {},
     "output_type": "execute_result"
    }
   ],
   "source": [
    "t > 20 # خروجی یک آرایه (7 ,4) با مقادیر بولی است"
   ]
  },
  {
   "cell_type": "code",
   "execution_count": 6,
   "id": "7eedfa67",
   "metadata": {},
   "outputs": [
    {
     "data": {
      "text/plain": [
       "10"
      ]
     },
     "execution_count": 6,
     "metadata": {},
     "output_type": "execute_result"
    }
   ],
   "source": [
    "np.count_nonzero(t > 20)"
   ]
  },
  {
   "cell_type": "code",
   "execution_count": 7,
   "id": "6875cfb7",
   "metadata": {},
   "outputs": [
    {
     "data": {
      "text/plain": [
       "array([0, 1, 4, 5])"
      ]
     },
     "execution_count": 7,
     "metadata": {},
     "output_type": "execute_result"
    }
   ],
   "source": [
    "np.sum(t > 20, axis=1)"
   ]
  },
  {
   "cell_type": "code",
   "execution_count": 8,
   "id": "f1afc503",
   "metadata": {},
   "outputs": [
    {
     "data": {
      "text/plain": [
       "False"
      ]
     },
     "execution_count": 8,
     "metadata": {},
     "output_type": "execute_result"
    }
   ],
   "source": [
    "np.any(t > 30)"
   ]
  },
  {
   "cell_type": "code",
   "execution_count": 9,
   "id": "65401c86",
   "metadata": {},
   "outputs": [
    {
     "data": {
      "text/plain": [
       "True"
      ]
     },
     "execution_count": 9,
     "metadata": {},
     "output_type": "execute_result"
    }
   ],
   "source": [
    "np.all(t >= 10)"
   ]
  },
  {
   "cell_type": "code",
   "execution_count": 10,
   "id": "c1b6179f",
   "metadata": {},
   "outputs": [
    {
     "data": {
      "text/plain": [
       "12"
      ]
     },
     "execution_count": 10,
     "metadata": {},
     "output_type": "execute_result"
    }
   ],
   "source": [
    "np.sum((t >= 15) & (t <= 20))"
   ]
  },
  {
   "cell_type": "code",
   "execution_count": 11,
   "id": "f7d50335",
   "metadata": {},
   "outputs": [
    {
     "data": {
      "text/plain": [
       "12"
      ]
     },
     "execution_count": 11,
     "metadata": {},
     "output_type": "execute_result"
    }
   ],
   "source": [
    "np.sum(~((t < 15) | (t > 20)))"
   ]
  }
 ],
 "metadata": {
  "interpreter": {
   "hash": "23a6b913c5c0dcb48130fb95bc8c7b084c5a812df45cbb14e417b737a9d4ee46"
  },
  "kernelspec": {
   "display_name": "qenv",
   "language": "python",
   "name": "qenv"
  },
  "language_info": {
   "codemirror_mode": {
    "name": "ipython",
    "version": 3
   },
   "file_extension": ".py",
   "mimetype": "text/x-python",
   "name": "python",
   "nbconvert_exporter": "python",
   "pygments_lexer": "ipython3",
   "version": "3.8.1"
  }
 },
 "nbformat": 4,
 "nbformat_minor": 5
}
